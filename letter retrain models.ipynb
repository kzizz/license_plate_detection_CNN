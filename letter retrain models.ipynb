{
 "cells": [
  {
   "cell_type": "code",
   "execution_count": 12,
   "metadata": {},
   "outputs": [],
   "source": [
    "import math\n",
    "import numpy as np\n",
    "import re\n",
    "import string\n",
    "import cv2\n",
    "import os\n",
    "import errno\n",
    "import random\n",
    "import string\n",
    "\n",
    "from collections import Counter\n",
    "from matplotlib import pyplot as plt\n",
    "from PIL import Image\n",
    "from sklearn import svm, datasets\n",
    "from sklearn.model_selection import train_test_split\n",
    "from sklearn.metrics import confusion_matrix\n",
    "from sklearn.utils.multiclass import unique_labels\n",
    "inputWidth = 18\n",
    "inputHeight = 22"
   ]
  },
  {
   "cell_type": "code",
   "execution_count": 13,
   "metadata": {},
   "outputs": [
    {
     "name": "stdout",
     "output_type": "stream",
     "text": [
      "Model: \"sequential_2\"\n",
      "_________________________________________________________________\n",
      "Layer (type)                 Output Shape              Param #   \n",
      "=================================================================\n",
      "conv2d_4 (Conv2D)            (None, 20, 16, 32)        896       \n",
      "_________________________________________________________________\n",
      "max_pooling2d_4 (MaxPooling2 (None, 10, 8, 32)         0         \n",
      "_________________________________________________________________\n",
      "conv2d_5 (Conv2D)            (None, 8, 6, 64)          18496     \n",
      "_________________________________________________________________\n",
      "max_pooling2d_5 (MaxPooling2 (None, 4, 3, 64)          0         \n",
      "_________________________________________________________________\n",
      "conv2d_6 (Conv2D)            (None, 2, 1, 128)         73856     \n",
      "_________________________________________________________________\n",
      "max_pooling2d_6 (MaxPooling2 (None, 1, 1, 128)         0         \n",
      "_________________________________________________________________\n",
      "flatten_2 (Flatten)          (None, 128)               0         \n",
      "_________________________________________________________________\n",
      "dropout_2 (Dropout)          (None, 128)               0         \n",
      "_________________________________________________________________\n",
      "dense_3 (Dense)              (None, 512)               66048     \n",
      "_________________________________________________________________\n",
      "dense_4 (Dense)              (None, 36)                18468     \n",
      "=================================================================\n",
      "Total params: 177,764\n",
      "Trainable params: 177,764\n",
      "Non-trainable params: 0\n",
      "_________________________________________________________________\n"
     ]
    }
   ],
   "source": [
    "#reload model for further training\n",
    "from numpy import loadtxt\n",
    "from keras.models import load_model\n",
    "\n",
    "from numpy import loadtxt\n",
    "from keras.models import load_model\n",
    "\n",
    "from keras import layers\n",
    "from keras import models\n",
    "from keras import optimizers\n",
    "\n",
    "from keras.utils import plot_model\n",
    "from keras import backend\n",
    "from keras.preprocessing.image import ImageDataGenerator\n",
    " \n",
    "# load model\n",
    "letter_loaded_model = load_model('letterRealModel.h5')\n",
    "# # summarize model.\n",
    "letter_loaded_model.summary()\n",
    "# load dataset"
   ]
  },
  {
   "cell_type": "code",
   "execution_count": 22,
   "metadata": {},
   "outputs": [],
   "source": [
    "def reset_weights(model):\n",
    "    session = backend.get_session()\n",
    "    for layer in model.layers: \n",
    "        if hasattr(layer, 'kernel_initializer'):\n",
    "            layer.kernel.initializer.run(session=session)"
   ]
  },
  {
   "cell_type": "code",
   "execution_count": 14,
   "metadata": {},
   "outputs": [],
   "source": [
    "def blurData(grayImage):\n",
    "    kernelSize = random.randrange(1, 3+1, 2)\n",
    "    return cv2.GaussianBlur(grayImage,(kernelSize,kernelSize),cv2.BORDER_DEFAULT)\n",
    "\n",
    "realDataGen = ImageDataGenerator(\n",
    "                              brightness_range=[0.8,1.0],\n",
    "                              rotation_range = 10,\n",
    "                              zoom_range = [0.8,1],\n",
    "#                               validation_split = 0.2,\n",
    "#                               width_shift_range = 0.2,\n",
    "#                              height_shift_range = 0.2,\n",
    "                             shear_range=0.2,\n",
    "#                              validation_split = 0.2,\n",
    "                             preprocessing_function = blurData\n",
    "    \n",
    "                            )\n"
   ]
  },
  {
   "cell_type": "code",
   "execution_count": 15,
   "metadata": {},
   "outputs": [],
   "source": [
    "# second round of training with real data from the world\n",
    "dataPath = \"./realData\"\n",
    "letterDataPath = dataPath + \"/letter\"\n",
    "letterLabels = list(string.ascii_uppercase)\n",
    "letterDataDictionary = {\"image\" : [] , \"vector\": [], \"label\": []}"
   ]
  },
  {
   "cell_type": "code",
   "execution_count": 17,
   "metadata": {},
   "outputs": [
    {
     "data": {
      "image/png": "[encoded data removed]",
      "text/plain": [
       "<Figure size 432x288 with 1 Axes>"
      ]
     },
     "metadata": {
      "needs_background": "light"
     },
     "output_type": "display_data"
    }
   ],
   "source": [
    "for file in os.listdir(letterDataPath):\n",
    "    if(file.endswith('.png')):\n",
    "        image = cv2.imread(letterDataPath + '/' + file)\n",
    "        image = cv2.resize(image,(inputWidth,inputHeight))\n",
    "\n",
    "        grayImage = cv2.cvtColor(image,cv2.COLOR_BGR2GRAY)\n",
    "        grayImage3 = np.repeat(grayImage[..., np.newaxis], 3, -1)\n",
    "        plt.imshow(grayImage3)\n",
    "#         imageBlur = cv2.GaussianBlur(image,(11,11),cv2.BORDER_DEFAULT)\n",
    "        dataLabel = file[0]\n",
    "        #creating the vector\n",
    "        vec = [0] * 36\n",
    "        index = letterLabels.index(dataLabel)\n",
    "        vec[index] = 1\n",
    "#         print(grayImage)\n",
    "        letterDataDictionary[\"image\"].append(grayImage3/255.0)#?\n",
    "        letterDataDictionary[\"vector\"].append(vec)\n",
    "        letterDataDictionary[\"label\"].append(dataLabel)\n",
    "        "
   ]
  },
  {
   "cell_type": "code",
   "execution_count": 18,
   "metadata": {},
   "outputs": [
    {
     "data": {
      "image/png": "[encoded data removed]",
      "text/plain": [
       "<Figure size 720x360 with 6 Axes>"
      ]
     },
     "metadata": {
      "needs_background": "light"
     },
     "output_type": "display_data"
    },
    {
     "data": {
      "text/plain": [
       "103"
      ]
     },
     "execution_count": 18,
     "metadata": {},
     "output_type": "execute_result"
    }
   ],
   "source": [
    "\n",
    "datax_train = np.array(letterDataDictionary[\"image\"])\n",
    "datay_train = np.array(letterDataDictionary[\"vector\"])\n",
    "\n",
    "data_training_generator = realDataGen.flow(datax_train,datay_train,batch_size=20)\n",
    "# validation_generator = realDataGen.flow(datax_train, datay_train, batch_size=64,subset='validation')\n",
    "\n",
    "plt.figure(figsize=(10,5))\n",
    "for i in range(6):\n",
    "    plt.subplot(2,3,i+1)\n",
    "    for x,y in data_training_generator:\n",
    "        plt.imshow((x[0]/255),cmap='gray')\n",
    "#         plt.title('y={}'.format(y[0]))\n",
    "        plt.axis('off')\n",
    "        break\n",
    "plt.tight_layout()\n",
    "plt.show()\n",
    "len(datax_train)"
   ]
  },
  {
   "cell_type": "code",
   "execution_count": 20,
   "metadata": {},
   "outputs": [],
   "source": [
    "LEARNING_RATE = 1e-4\n",
    "letter_loaded_model.compile(loss='categorical_crossentropy',\n",
    "                   optimizer=optimizers.RMSprop(lr=LEARNING_RATE),\n",
    "                   metrics=['acc'])\n"
   ]
  },
  {
   "cell_type": "code",
   "execution_count": 27,
   "metadata": {},
   "outputs": [
    {
     "name": "stdout",
     "output_type": "stream",
     "text": [
      "Epoch 1/60\n",
      "2/2 [==============================] - 0s 106ms/step - loss: 0.7084 - acc: 0.9500 - val_loss: 0.3229 - val_acc: 0.9750\n",
      "Epoch 2/60\n",
      "2/2 [==============================] - 0s 60ms/step - loss: 1.9015 - acc: 0.8077 - val_loss: 0.0156 - val_acc: 1.0000\n",
      "Epoch 3/60\n",
      "2/2 [==============================] - 0s 10ms/step - loss: 0.6214 - acc: 0.9231 - val_loss: 0.5683 - val_acc: 0.9231\n",
      "Epoch 4/60\n",
      "2/2 [==============================] - 0s 61ms/step - loss: 0.2416 - acc: 0.9231 - val_loss: 0.0018 - val_acc: 0.9750\n",
      "Epoch 5/60\n",
      "2/2 [==============================] - 0s 132ms/step - loss: 0.8149 - acc: 0.8500 - val_loss: 0.4113 - val_acc: 0.9615\n",
      "Epoch 6/60\n",
      "2/2 [==============================] - 0s 22ms/step - loss: 0.0104 - acc: 1.0000 - val_loss: 0.0010 - val_acc: 1.0000\n",
      "Epoch 7/60\n",
      "2/2 [==============================] - 0s 70ms/step - loss: 0.1664 - acc: 0.9500 - val_loss: 0.1840 - val_acc: 0.9750\n",
      "Epoch 8/60\n",
      "2/2 [==============================] - 0s 100ms/step - loss: 0.0643 - acc: 0.9167 - val_loss: 0.0025 - val_acc: 1.0000\n",
      "Epoch 9/60\n",
      "2/2 [==============================] - 0s 26ms/step - loss: 0.8510 - acc: 0.9250 - val_loss: 0.0011 - val_acc: 0.9615\n",
      "Epoch 10/60\n",
      "2/2 [==============================] - 0s 40ms/step - loss: 0.0238 - acc: 1.0000 - val_loss: 0.1271 - val_acc: 0.9750\n",
      "Epoch 11/60\n",
      "2/2 [==============================] - 0s 72ms/step - loss: 0.3968 - acc: 0.9000 - val_loss: 0.0858 - val_acc: 0.9615\n",
      "Epoch 12/60\n",
      "2/2 [==============================] - 0s 19ms/step - loss: 0.0629 - acc: 0.9615 - val_loss: 0.0157 - val_acc: 1.0000\n",
      "Epoch 13/60\n",
      "2/2 [==============================] - 0s 77ms/step - loss: 0.1656 - acc: 0.8846 - val_loss: 0.0135 - val_acc: 0.9750\n",
      "Epoch 14/60\n",
      "2/2 [==============================] - 0s 53ms/step - loss: 0.8321 - acc: 0.8500 - val_loss: 0.0073 - val_acc: 1.0000\n",
      "Epoch 15/60\n",
      "2/2 [==============================] - 0s 24ms/step - loss: 0.2521 - acc: 0.8846 - val_loss: 4.4436e-04 - val_acc: 0.9615\n",
      "Epoch 16/60\n",
      "2/2 [==============================] - 0s 67ms/step - loss: 0.5482 - acc: 0.9000 - val_loss: 0.0037 - val_acc: 1.0000\n",
      "Epoch 17/60\n",
      "2/2 [==============================] - 0s 50ms/step - loss: 0.0542 - acc: 0.9615 - val_loss: 0.0534 - val_acc: 0.9615\n",
      "Epoch 18/60\n",
      "2/2 [==============================] - 0s 12ms/step - loss: 0.1651 - acc: 0.9231 - val_loss: 0.0139 - val_acc: 0.9615\n",
      "Epoch 19/60\n",
      "2/2 [==============================] - 0s 35ms/step - loss: 0.3446 - acc: 0.8846 - val_loss: 4.7495e-04 - val_acc: 0.9750\n",
      "Epoch 20/60\n",
      "2/2 [==============================] - 0s 49ms/step - loss: 0.3450 - acc: 0.8846 - val_loss: 1.8652e-04 - val_acc: 1.0000\n",
      "Epoch 21/60\n",
      "2/2 [==============================] - 0s 26ms/step - loss: 0.2112 - acc: 0.9250 - val_loss: 0.1558 - val_acc: 0.9615\n",
      "Epoch 22/60\n",
      "2/2 [==============================] - 0s 66ms/step - loss: 0.1478 - acc: 0.9231 - val_loss: 0.3637 - val_acc: 0.9750\n",
      "Epoch 23/60\n",
      "2/2 [==============================] - 0s 53ms/step - loss: 0.0495 - acc: 1.0000 - val_loss: 0.3481 - val_acc: 0.9615\n",
      "Epoch 24/60\n",
      "2/2 [==============================] - 0s 21ms/step - loss: 0.4532 - acc: 0.9000 - val_loss: 7.8064e-05 - val_acc: 0.9615\n",
      "Epoch 25/60\n",
      "2/2 [==============================] - 0s 56ms/step - loss: 0.0507 - acc: 0.9615 - val_loss: 0.0061 - val_acc: 1.0000\n",
      "Epoch 26/60\n",
      "2/2 [==============================] - 0s 65ms/step - loss: 0.6341 - acc: 0.8462 - val_loss: 0.0478 - val_acc: 0.9615\n",
      "Epoch 27/60\n",
      "2/2 [==============================] - 0s 31ms/step - loss: 0.3600 - acc: 0.8500 - val_loss: 0.2154 - val_acc: 0.9231\n",
      "Epoch 28/60\n",
      "2/2 [==============================] - 0s 55ms/step - loss: 0.1462 - acc: 0.9500 - val_loss: 0.2741 - val_acc: 0.9750\n",
      "Epoch 29/60\n",
      "2/2 [==============================] - 0s 115ms/step - loss: 0.1823 - acc: 0.9231 - val_loss: 0.0201 - val_acc: 1.0000\n",
      "Epoch 30/60\n",
      "2/2 [==============================] - 0s 21ms/step - loss: 0.1144 - acc: 0.9615 - val_loss: 0.7215 - val_acc: 0.9615\n",
      "Epoch 31/60\n",
      "2/2 [==============================] - 0s 47ms/step - loss: 0.1920 - acc: 0.9231 - val_loss: 6.2586e-05 - val_acc: 1.0000\n",
      "Epoch 32/60\n",
      "2/2 [==============================] - 0s 125ms/step - loss: 0.1340 - acc: 0.9250 - val_loss: 0.0036 - val_acc: 1.0000\n",
      "Epoch 33/60\n",
      "2/2 [==============================] - 0s 23ms/step - loss: 0.1628 - acc: 0.9231 - val_loss: 0.5547 - val_acc: 0.9615\n",
      "Epoch 34/60\n",
      "2/2 [==============================] - 0s 64ms/step - loss: 0.0965 - acc: 0.9231 - val_loss: 0.2612 - val_acc: 0.9500\n",
      "Epoch 35/60\n",
      "2/2 [==============================] - 0s 132ms/step - loss: 0.2530 - acc: 0.9500 - val_loss: 0.0080 - val_acc: 0.9615\n",
      "Epoch 36/60\n",
      "2/2 [==============================] - 0s 25ms/step - loss: 0.1427 - acc: 0.9615 - val_loss: 0.0828 - val_acc: 1.0000\n",
      "Epoch 37/60\n",
      "2/2 [==============================] - 0s 49ms/step - loss: 0.3895 - acc: 0.9250 - val_loss: 0.1859 - val_acc: 0.9750\n",
      "Epoch 38/60\n",
      "2/2 [==============================] - 0s 82ms/step - loss: 0.1346 - acc: 0.9231 - val_loss: 0.2476 - val_acc: 0.9231\n",
      "Epoch 39/60\n",
      "2/2 [==============================] - 0s 21ms/step - loss: 0.6436 - acc: 0.8846 - val_loss: 6.1247e-05 - val_acc: 1.0000\n",
      "Epoch 40/60\n",
      "2/2 [==============================] - 0s 50ms/step - loss: 0.7036 - acc: 0.8250 - val_loss: 0.3607 - val_acc: 0.9750\n",
      "Epoch 41/60\n",
      "2/2 [==============================] - 0s 89ms/step - loss: 0.6842 - acc: 0.8333 - val_loss: 0.1513 - val_acc: 0.9615\n",
      "Epoch 42/60\n",
      "2/2 [==============================] - 0s 30ms/step - loss: 0.3726 - acc: 0.9500 - val_loss: 9.3815e-04 - val_acc: 1.0000\n",
      "Epoch 43/60\n",
      "2/2 [==============================] - 0s 61ms/step - loss: 0.2386 - acc: 0.9615 - val_loss: 0.0099 - val_acc: 1.0000\n",
      "Epoch 44/60\n",
      "2/2 [==============================] - 0s 47ms/step - loss: 0.0889 - acc: 0.9615 - val_loss: 0.0039 - val_acc: 1.0000\n",
      "Epoch 45/60\n",
      "2/2 [==============================] - 0s 18ms/step - loss: 0.2567 - acc: 0.9500 - val_loss: 0.0015 - val_acc: 1.0000\n",
      "Epoch 46/60\n",
      "2/2 [==============================] - 0s 31ms/step - loss: 0.3212 - acc: 0.8846 - val_loss: 0.0138 - val_acc: 1.0000\n",
      "Epoch 47/60\n",
      "2/2 [==============================] - 0s 41ms/step - loss: 0.0178 - acc: 1.0000 - val_loss: 0.0017 - val_acc: 1.0000\n",
      "Epoch 48/60\n",
      "2/2 [==============================] - 0s 27ms/step - loss: 0.0103 - acc: 1.0000 - val_loss: 7.3344e-04 - val_acc: 1.0000\n",
      "Epoch 49/60\n",
      "2/2 [==============================] - 0s 38ms/step - loss: 0.1001 - acc: 0.9615 - val_loss: 0.0613 - val_acc: 1.0000\n",
      "Epoch 50/60\n",
      "2/2 [==============================] - 0s 80ms/step - loss: 0.0678 - acc: 1.0000 - val_loss: 0.1098 - val_acc: 0.9615\n",
      "Epoch 51/60\n",
      "2/2 [==============================] - 0s 25ms/step - loss: 0.2102 - acc: 0.9000 - val_loss: 1.1126e-05 - val_acc: 1.0000\n",
      "Epoch 52/60\n",
      "2/2 [==============================] - 0s 49ms/step - loss: 0.2860 - acc: 0.9500 - val_loss: 0.0134 - val_acc: 1.0000\n",
      "Epoch 53/60\n",
      "2/2 [==============================] - 0s 146ms/step - loss: 0.0951 - acc: 0.9615 - val_loss: 0.0088 - val_acc: 1.0000\n",
      "Epoch 54/60\n",
      "2/2 [==============================] - 0s 11ms/step - loss: 0.1244 - acc: 0.9615 - val_loss: 0.0015 - val_acc: 0.9615\n",
      "Epoch 55/60\n",
      "2/2 [==============================] - 0s 45ms/step - loss: 0.0490 - acc: 0.9750 - val_loss: 0.0054 - val_acc: 0.9750\n",
      "Epoch 56/60\n",
      "2/2 [==============================] - 0s 144ms/step - loss: 0.1745 - acc: 0.9231 - val_loss: 0.2614 - val_acc: 0.9231\n",
      "Epoch 57/60\n",
      "2/2 [==============================] - 0s 24ms/step - loss: 0.4900 - acc: 0.8846 - val_loss: 6.5579e-05 - val_acc: 0.9615\n",
      "Epoch 58/60\n",
      "2/2 [==============================] - 0s 83ms/step - loss: 0.4642 - acc: 0.8250 - val_loss: 0.0011 - val_acc: 0.9750\n",
      "Epoch 59/60\n",
      "2/2 [==============================] - 0s 65ms/step - loss: 0.4424 - acc: 0.9615 - val_loss: 7.5588e-04 - val_acc: 1.0000\n",
      "Epoch 60/60\n",
      "2/2 [==============================] - 0s 10ms/step - loss: 0.2157 - acc: 0.9615 - val_loss: 0.0023 - val_acc: 0.9615\n"
     ]
    }
   ],
   "source": [
    "\n",
    "history_conv = number_loaded_model.fit_generator(data_training_generator,steps_per_epoch=(len(datax_train))//20, epochs=60, validation_data=data_training_generator, validation_steps=(len(datax_train))//20)"
   ]
  },
  {
   "cell_type": "code",
   "execution_count": 31,
   "metadata": {},
   "outputs": [
    {
     "name": "stdout",
     "output_type": "stream",
     "text": [
      "('predicted value:', 'P')\n",
      "('ground truth:', 'O')\n"
     ]
    },
    {
     "data": {
      "image/png": "[encoded data removed]",
      "text/plain": [
       "<Figure size 432x288 with 1 Axes>"
      ]
     },
     "metadata": {
      "needs_background": "light"
     },
     "output_type": "display_data"
    }
   ],
   "source": [
    "# test the model\n",
    "def testModel(img,truth):\n",
    "  grayImg = cv2.cvtColor(img,cv2.COLOR_BGR2GRAY)\n",
    "  img_aug = np.repeat(grayImg[..., np.newaxis], 3, -1)\n",
    "  img_aug = cv2.resize(img_aug,(inputWidth,inputHeight))\n",
    "  img_aug = np.expand_dims(img_aug, axis=0)\n",
    "  y_predict = letter_loaded_model.predict(img_aug)[0]\n",
    "#   print(y_predict)\n",
    "  plt.imshow(img)\n",
    "  predictVal = max(y_predict)\n",
    "#   print(predictVal)\n",
    "  predictedVal_index = np.where(y_predict == predictVal)[0][0]\n",
    "  predictedVal = letterLabels[predictedVal_index]\n",
    "#   groundTruth_index = np.where(datay_train[index] == 1)[0][0]\n",
    "#   groundTruth = labels[groundTruth_index]\n",
    "#   print(\"predicted value:\",format(predictedVal))\n",
    "#   print(\"ground truth:\",format(truth))\n",
    "  if (predictedVal != truth):\n",
    "   print(\"predicted value:\",format(predictedVal))\n",
    "   print(\"ground truth:\",format(truth))\n",
    "\n",
    "\n",
    "dataPath = \"./realData/letter\"\n",
    "y_test = []\n",
    "y_true = []\n",
    "\n",
    "for file in os.listdir(dataPath):\n",
    "    if(file.endswith('.png')):\n",
    "        truth = file[0]\n",
    "        image = cv2.imread(dataPath + '/' + file) #converts to grey scale\n",
    "        width, height, dim = image.shape\n",
    "#         image = cv2.resize(image,(95,170))\n",
    "        plt.imshow(image)\n",
    "        testModel(image,truth)\n",
    "    \n",
    "        "
   ]
  },
  {
   "cell_type": "code",
   "execution_count": 32,
   "metadata": {},
   "outputs": [],
   "source": [
    "#Use to plot the confusion matrix\n",
    "def plot_confusion_matrix(y_true, y_pred, classes,\n",
    "                          normalize=False,\n",
    "                          title=None,\n",
    "                          cmap=plt.cm.Blues):\n",
    "    print (\"Classes:\")\n",
    "    print classes\n",
    "    \"\"\"\n",
    "    This function prints and plots the confusion matrix.\n",
    "    Normalization can be applied by setting `normalize=True`.\n",
    "    \"\"\"\n",
    "    if not title:\n",
    "        if normalize:\n",
    "            title = 'Normalized confusion matrix'\n",
    "        else:\n",
    "            title = 'Confusion matrix, without normalization'\n",
    "\n",
    "    # Compute confusion matrix\n",
    "    cm = confusion_matrix(y_true, y_pred)\n",
    "    # Only use the labels that appear in the data\n",
    "    #classes = classes[unique_labels(y_true, y_pred)]\n",
    "    if normalize:\n",
    "        cm = cm.astype('float') / cm.sum(axis=1)[:, np.newaxis]\n",
    "        print(\"Normalized confusion matrix\")\n",
    "    else:\n",
    "        print('Confusion matrix, without normalization')\n",
    "\n",
    "    print(cm)\n",
    "\n",
    "    fig, ax = plt.subplots()\n",
    "    im = ax.imshow(cm, interpolation='nearest', cmap=cmap)\n",
    "    ax.figure.colorbar(im, ax=ax)\n",
    "    # We want to show all ticks...\n",
    "    ax.set(xticks=np.arange(cm.shape[1]),\n",
    "           yticks=np.arange(cm.shape[0]),\n",
    "           # ... and label them with the respective list entries\n",
    "           xticklabels=classes, yticklabels=classes,\n",
    "           title=title,\n",
    "           ylabel='True label',\n",
    "           xlabel='Predicted label')\n",
    "\n",
    "    # Rotate the tick labels and set their alignment.\n",
    "    plt.setp(ax.get_xticklabels(), rotation=45, ha=\"right\",\n",
    "             rotation_mode=\"anchor\")\n",
    "\n",
    "    # Loop over data dimensions and create text annotations.\n",
    "    fmt = '.2f' if normalize else 'd'\n",
    "    thresh = cm.max() / 2.\n",
    "    for i in range(cm.shape[0]):\n",
    "        for j in range(cm.shape[1]):\n",
    "            ax.text(j, i, format(cm[i, j], fmt),\n",
    "                    ha=\"center\", va=\"center\",\n",
    "                    color=\"white\" if cm[i, j] > thresh else \"black\")\n",
    "    fig.tight_layout()\n",
    "    return ax\n",
    "\n"
   ]
  },
  {
   "cell_type": "code",
   "execution_count": 34,
   "metadata": {},
   "outputs": [
    {
     "name": "stdout",
     "output_type": "stream",
     "text": [
      "Classes:\n",
      "['A', 'B', 'C', 'D', 'E', 'F', 'G', 'H', 'I', 'J', 'K', 'L', 'M', 'N', 'O', 'P', 'Q', 'R', 'S', 'T', 'U', 'V', 'W', 'X', 'Y', 'Z']\n",
      "Confusion matrix, without normalization\n",
      "[[3 0 0 0 0 0 0 0 0 0 0 0 0 0 0 0 0 0 0 0 0 0 0 0 0 0]\n",
      " [0 7 0 0 0 0 0 0 0 0 0 0 0 0 0 0 0 0 0 0 0 0 0 0 0 0]\n",
      " [0 0 3 0 0 0 0 0 0 0 0 0 0 0 0 0 0 0 0 0 0 0 0 0 0 0]\n",
      " [0 0 0 2 0 0 0 0 0 0 0 0 0 0 0 0 0 0 0 0 0 0 0 0 0 0]\n",
      " [0 0 0 0 6 0 0 0 0 0 0 0 0 0 0 0 0 0 0 0 0 0 0 0 0 0]\n",
      " [0 0 0 0 0 3 0 0 0 0 0 0 0 0 0 0 0 0 0 0 0 0 0 0 0 0]\n",
      " [0 0 0 0 0 0 9 0 0 0 0 0 0 0 0 0 0 0 0 0 0 0 0 0 0 0]\n",
      " [0 0 0 0 0 0 0 1 0 0 0 0 0 0 0 0 0 0 0 0 0 0 0 0 0 0]\n",
      " [0 0 0 0 0 0 0 0 1 0 0 0 0 0 0 0 0 0 0 0 0 0 0 0 0 0]\n",
      " [0 0 0 0 0 0 0 0 0 5 0 0 0 0 0 0 0 0 0 0 0 0 0 0 0 0]\n",
      " [0 0 0 0 0 0 0 0 0 0 5 0 0 0 0 0 0 0 0 0 0 0 0 0 0 0]\n",
      " [0 0 0 0 0 0 0 0 0 0 0 5 0 0 0 0 0 0 0 0 0 0 0 0 0 0]\n",
      " [0 0 0 0 0 0 0 0 0 0 0 0 4 0 0 0 0 0 0 0 0 0 0 0 0 0]\n",
      " [0 0 0 0 0 0 0 0 0 0 0 0 0 4 0 0 0 0 0 0 0 0 0 0 0 0]\n",
      " [0 0 0 0 0 0 0 0 0 0 0 0 0 0 2 1 0 0 0 0 0 0 0 0 0 0]\n",
      " [0 0 0 0 0 0 0 0 0 0 0 0 0 0 0 5 0 0 0 0 0 0 0 0 0 0]\n",
      " [0 0 0 0 0 0 0 0 0 0 0 0 0 0 0 0 5 0 0 0 0 0 0 0 0 0]\n",
      " [0 0 0 0 0 0 0 0 0 0 0 0 0 0 0 0 0 3 0 0 0 0 0 0 0 0]\n",
      " [0 0 0 0 0 0 0 0 0 0 0 0 0 0 0 0 0 0 5 0 0 0 0 0 0 0]\n",
      " [0 0 0 0 0 0 0 0 0 0 0 0 0 0 0 0 0 0 0 3 0 0 0 0 0 0]\n",
      " [0 0 0 0 0 0 0 0 0 0 0 0 0 0 0 0 0 0 0 0 1 0 0 0 0 0]\n",
      " [0 0 0 0 0 0 0 0 0 0 0 0 0 0 0 0 0 0 0 0 0 1 0 0 0 0]\n",
      " [0 0 0 0 0 0 0 0 0 0 0 0 0 0 0 0 0 0 0 0 0 0 3 0 0 0]\n",
      " [0 0 0 0 0 0 0 0 0 0 0 0 0 0 0 0 0 0 0 0 0 0 0 8 0 0]\n",
      " [0 0 0 0 0 0 0 0 0 0 0 0 0 0 0 0 0 0 0 0 0 0 0 0 5 0]\n",
      " [0 0 0 0 0 0 0 0 0 0 0 0 0 0 0 0 0 0 0 0 0 0 0 0 0 3]]\n"
     ]
    },
    {
     "data": {
      "image/png": "[encoded data removed]",
      "text/plain": [
       "<Figure size 432x288 with 2 Axes>"
      ]
     },
     "metadata": {
      "needs_background": "light"
     },
     "output_type": "display_data"
    }
   ],
   "source": [
    "#Process data for confusion matrix plotting \n",
    "y_test = []\n",
    "y_true = []\n",
    "\n",
    "for file in os.listdir(dataPath):\n",
    "    if(file.endswith('.png')):\n",
    "        y_true.append(file[0])\n",
    "#         print(\"Y true:\")\n",
    "#         print(y_true)\n",
    "        image = cv2.imread(dataPath + '/' + file) #converts to grey scale\n",
    "        grayImg = cv2.cvtColor(image,cv2.COLOR_BGR2GRAY)\n",
    "        img_aug = np.repeat(grayImg[..., np.newaxis], 3, -1)\n",
    "        img_aug = cv2.resize(img_aug,(inputWidth,inputHeight))\n",
    "        img_aug = np.expand_dims(img_aug, axis=0)\n",
    "        y_predict = letter_loaded_model.predict(img_aug)[0]\n",
    "        predictVal = max(y_predict)\n",
    "        predictedVal_index = np.where(y_predict == predictVal)[0][0]\n",
    "        predictedVal = letterLabels[predictedVal_index]\n",
    "        y_test.append(predictedVal)\n",
    "#         print(\"Y test:\")\n",
    "#         print(y_test)\n",
    "    \n",
    "np.set_printoptions(precision=2)\n",
    "\n",
    "# Plot normalized confusion matrix\n",
    "plot_confusion_matrix(y_true, y_test, classes=letterLabels, normalize=False,\n",
    "                      title='Confusion matrix')\n",
    "\n",
    "plt.show()\n"
   ]
  },
  {
   "cell_type": "code",
   "execution_count": 50,
   "metadata": {},
   "outputs": [],
   "source": [
    "number_loaded_model.save(\"numberswithparking.h5\")\n"
   ]
  }
 ],
 "metadata": {
  "kernelspec": {
   "display_name": "Python 2",
   "language": "python",
   "name": "python2"
  },
  "language_info": {
   "codemirror_mode": {
    "name": "ipython",
    "version": 2
   },
   "file_extension": ".py",
   "mimetype": "text/x-python",
   "name": "python",
   "nbconvert_exporter": "python",
   "pygments_lexer": "ipython2",
   "version": "2.7.15+"
  }
 },
 "nbformat": 4,
 "nbformat_minor": 2
}
