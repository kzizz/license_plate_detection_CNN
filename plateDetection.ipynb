{
 "cells": [
  {
   "cell_type": "code",
   "execution_count": 8,
   "metadata": {},
   "outputs": [],
   "source": [
    "import math\n",
    "import numpy as np\n",
    "import re\n",
    "import string\n",
    "import cv2\n",
    "import os\n",
    "import errno\n",
    "import random"
   ]
  },
  {
   "cell_type": "code",
   "execution_count": null,
   "metadata": {},
   "outputs": [],
   "source": []
  },
  {
   "cell_type": "code",
   "execution_count": 9,
   "metadata": {},
   "outputs": [],
   "source": [
    "from collections import Counter\n",
    "from matplotlib import pyplot as plt\n",
    "from PIL import Image\n",
    "inputWidth = 18\n",
    "inputHeight = 22"
   ]
  },
  {
   "cell_type": "code",
   "execution_count": null,
   "metadata": {},
   "outputs": [],
   "source": []
  },
  {
   "cell_type": "code",
   "execution_count": 4,
   "metadata": {
    "scrolled": false
   },
   "outputs": [],
   "source": [
    "# You will need to update this path to match the folder in your Google Drive\n",
    "PATH = \"./pictures\"\n",
    "croppedPath = \"./cropped\"\n",
    "# labels = !ls \"{PATH}\"\n",
    "\n",
    "\n",
    "\n",
    "\n",
    "x0 = 50\n",
    "y0 = 80\n",
    "spaceX = 5\n",
    "spaceFlagX = 105\n",
    "dy = 170\n",
    "dx = 95\n",
    "x1 = x0 + spaceX + dx\n",
    "x2 = x1 + spaceFlagX + dx\n",
    "x3 = x2 + spaceX + dx\n",
    "x4 = x3 + spaceX + dx\n",
    "n = 0\n",
    "fileNames = []\n",
    "\n",
    "for file in os.listdir(PATH):\n",
    "    if(file.endswith('.png')):\n",
    "        cropPath = []\n",
    "        for i in range(4):\n",
    "            cropPath.append(file[6+i])\n",
    "        image = cv2.imread(PATH + '/' + file) #converts to grey scale\n",
    "        grayImage = cv2.cvtColor(image,cv2.COLOR_BGR2GRAY)\n",
    "        crop_img1 = 255 - grayImage[y0:y0+dy, x0:x0+dx]\n",
    "        #crop_img1 = np.expand_dims(crop_img1, axis=2)\n",
    "        crop_img2 = 255 - grayImage[y0:y0+dy, x1:x1+dx]\n",
    "        #crop_img2 = np.expand_dims(crop_img2, axis=2)\n",
    "        crop_img3 = 255 - grayImage[y0:y0+dy, x2:x2+dx]\n",
    "        #crop_img3 = np.expand_dims(crop_img3, axis=2)\n",
    "        crop_img4 = 255 - grayImage[y0:y0+dy, x3:x3+dx]\n",
    "        #crop_img4 = np.expand_dims(crop_img4, axis=2)\n",
    "        fileName1 = cropPath[0] + str(n) + '.png'\n",
    "        fileName2 = cropPath[1] + str(n) + '.png'\n",
    "        fileName3 = cropPath[2] + str(n) + '.png'\n",
    "        fileName4 = cropPath[3] + str(n) + '.png'\n",
    "        fileNames.extend([fileName1, fileName2, fileName3, fileName4])\n",
    "        cv2.imwrite(croppedPath +'/'+ fileName1,crop_img1)\n",
    "        cv2.imwrite(croppedPath +'/' + fileName2,crop_img2)\n",
    "        cv2.imwrite(croppedPath +'/' + fileName3,crop_img3)\n",
    "        cv2.imwrite(croppedPath +'/' + fileName4,crop_img4)\n",
    "        \n",
    "        n = n+1\n",
    "# shuffle data\n",
    "random.shuffle(fileNames)"
   ]
  },
  {
   "cell_type": "code",
   "execution_count": 11,
   "metadata": {},
   "outputs": [],
   "source": [
    "#create dictionary\n",
    "\n",
    "labels = ['0','1','2','3','4','5','6','7','8','9']\n",
    "labels.extend(list(string.ascii_uppercase))\n",
    "dictionary = {\"image\" : [] , \"vector\": [], \"label\": []}"
   ]
  },
  {
   "cell_type": "code",
   "execution_count": null,
   "metadata": {},
   "outputs": [],
   "source": [
    "for fileName in fileNames:\n",
    "    pathToImage = croppedPath + '/' + fileName\n",
    "    label = fileName[0]\n",
    "    index = labels.index(label)\n",
    "    #creating the vector\n",
    "    vec = [0] * 36\n",
    "    vec[index] = 1\n",
    "    img = cv2.imread(pathToImage)\n",
    "    img = cv2.resize(img,(inputWidth,inputHeight))\n",
    "#     imgAugmented = np.expand_dims(img, axis=0)\n",
    "#     plt.imshow(imgAugmented)\n",
    "    dictionary[\"image\"].append(img/255.0) #normalizing to values between zero and one\n",
    "    dictionary[\"vector\"].append(vec)\n",
    "    dictionary[\"label\"].append(label)"
   ]
  },
  {
   "cell_type": "code",
   "execution_count": null,
   "metadata": {},
   "outputs": [],
   "source": [
    "INDEX=100\n",
    "\n",
    "plt.imshow(dictionary[\"image\"][INDEX])\n",
    "# print(dictionary[\"image\"][INDEX])\n",
    "print(dictionary[\"vector\"][INDEX])\n",
    "print(len(dictionary[\"vector\"]))"
   ]
  },
  {
   "cell_type": "code",
   "execution_count": null,
   "metadata": {},
   "outputs": [],
   "source": [
    "# # train the system\n",
    "\n",
    "from keras import layers\n",
    "from keras import models\n",
    "from keras import optimizers\n",
    "\n",
    "from keras.utils import plot_model\n",
    "from keras import backend\n",
    "from keras.preprocessing.image import ImageDataGenerator"
   ]
  },
  {
   "cell_type": "code",
   "execution_count": null,
   "metadata": {},
   "outputs": [],
   "source": [
    "x_train = np.array(dictionary[\"image\"])\n",
    "y_train = np.array(dictionary[\"vector\"])                   \n",
    "\n",
    "def blur(image):\n",
    "    kernelSize = random.randrange(1, 5+1, 2)\n",
    "    return cv2.GaussianBlur(image,(kernelSize,kernelSize),cv2.BORDER_DEFAULT)"
   ]
  },
  {
   "cell_type": "code",
   "execution_count": null,
   "metadata": {},
   "outputs": [],
   "source": [
    "plt.imshow(blur(dictionary[\"image\"][INDEX]))"
   ]
  },
  {
   "cell_type": "code",
   "execution_count": null,
   "metadata": {},
   "outputs": [],
   "source": [
    "    \n",
    "datagen = ImageDataGenerator(\n",
    "                              brightness_range=[0.2,1.0],\n",
    "                               rotation_range = 1,\n",
    "                               zoom_range = [0.8,1],\n",
    "                              validation_split = 0.2,\n",
    "                             width_shift_range = 0.1,\n",
    "                              height_shift_range = 0.1,\n",
    "                             shear_range=0.2,\n",
    "                            preprocessing_function = blur\n",
    "                            )\n",
    "training_generator = datagen.flow(x_train,y_train,batch_size=64,subset='training')\n",
    "validation_generator = datagen.flow(x_train, y_train, batch_size=64,subset='validation')\n",
    "\n",
    "plt.figure(figsize=(10,5))\n",
    "for i in range(6):\n",
    "     plt.subplot(2,3,i+1)\n",
    "    for x,y in training_generator:\n",
    "        plt.imshow((x[0]/255),cmap='gray')\n",
    "#       plt.title('y={}'.format(y[0]))\n",
    "        plt.axis('off')\n",
    "        break\n",
    "plt.tight_layout()\n",
    "plt.show()\n",
    "len(x_train)"
   ]
  },
  {
   "cell_type": "code",
   "execution_count": null,
   "metadata": {},
   "outputs": [],
   "source": []
  },
  {
   "cell_type": "code",
   "execution_count": null,
   "metadata": {},
   "outputs": [],
   "source": [
    "# import cv2\n",
    "# import numpy as np\n",
    "# import sys\n",
    "# import time\n",
    "# import random\n",
    "\n",
    "\n",
    "# imgWidth = 95\n",
    "# imgHeight = 170\n",
    "\n",
    "# def augmentImage(image):\n",
    "#     distortedImage = 0\n",
    "#     # possible operations\n",
    "#     # color distortion, random blur, shear transform, decrease resolution\n",
    "#     possibleResolutions = [10]\n",
    "#     possibleBlurs = [3]\n",
    "#     possibleChannels = [cv2.COLOR_BGR2HSV,cv2.COLOR_BGR2GRAY,'BGR'] #or keep BGR\n",
    "#     possibleOperations = [possibleResolutions,possibleBlurs,possibleChannels]\n",
    "#     possibleFunctions = [lowerResolution,blur,changeColorChannel]\n",
    "#     for index,operation in enumerate(possibleOperations):\n",
    "#         numberOfOptions = len(operation)\n",
    "#         randomOperation = operation[random.randint(0,numberOfOptions-1)]\n",
    "#         distortedImage = possibleFunctions[index](image,randomOperation)\n",
    "#     return distortedImage\n",
    "# def changeColorChannel(image,channel):\n",
    "#     print(\"color channel\")\n",
    "#     print(channel)\n",
    "#     if(channel != 'BGR'):\n",
    "#         print(\"changed color channel\")\n",
    "#         newImage = cv2.cvtColor(image,channel)\n",
    "#     else:\n",
    "#         newImage = image\n",
    "#     return newImage\n",
    "        \n",
    "# # lowers the resolution of the image\n",
    "# def blur(image,kernelVal):\n",
    "#     print(kernelVal)\n",
    "#     return cv2.GaussianBlur(image,(kernelVal,kernelVal),cv2.BORDER_DEFAULT)\n",
    "\n",
    "# def lowerResolution(frame, percent):\n",
    "#     print(\"lowered resolution by\")\n",
    "#     print(percent)\n",
    "#     width = int(frame.shape[1] * percent/ 100)\n",
    "#     height = int(frame.shape[0] * percent/ 100)\n",
    "#     dim = (width, height)\n",
    "#     resizedImage = cv2.resize(frame, dim, interpolation =cv2.INTER_AREA)\n",
    "# #     lowResImage = cv2.resize(resizedImage,(imgWidth,imgHeight))\n",
    "#     plt.imshow(lowResImage)\n",
    "#     return resizedImage\n",
    "# # plt.imshow(dictionary[\"image\"][INDEX])\n",
    "# image = augmentImage(dictionary[\"image\"][INDEX])\n",
    "# plt.imshow(image)\n"
   ]
  },
  {
   "cell_type": "code",
   "execution_count": null,
   "metadata": {},
   "outputs": [],
   "source": [
    "def reset_weights(model):\n",
    "    session = backend.get_session()\n",
    "    for layer in model.layers: \n",
    "        if hasattr(layer, 'kernel_initializer'):\n",
    "            layer.kernel.initializer.run(session=session)"
   ]
  },
  {
   "cell_type": "code",
   "execution_count": null,
   "metadata": {},
   "outputs": [],
   "source": [
    "conv_model = models.Sequential()\n",
    "conv_model.add(layers.Conv2D(32, (3, 3), activation='relu',\n",
    "                             input_shape=(inputHeight,inputWidth, 3)))\n",
    "conv_model.add(layers.MaxPooling2D((2, 2)))\n",
    "conv_model.add(layers.Conv2D(64, (3, 3), activation='relu'))\n",
    "conv_model.add(layers.MaxPooling2D((2, 2), padding = 'same'))\n",
    "conv_model.add(layers.Conv2D(128, (3, 3), activation='relu'))\n",
    "conv_model.add(layers.MaxPooling2D((2, 2), padding = 'same'))\n",
    "# conv_model.add(layers.Conv2D(64, (3, 3), activation='relu'))\n",
    "# conv_model.add(layers.MaxPooling2D((2, 2), padding = 'same'))\n",
    "conv_model.add(layers.Flatten())\n",
    "conv_model.add(layers.Dropout(0.5))\n",
    "conv_model.add(layers.Dense(512, activation='relu'))\n",
    "conv_model.add(layers.Dense(36, activation='softmax'))     \n",
    "\n",
    "conv_model.summary()"
   ]
  },
  {
   "cell_type": "code",
   "execution_count": 4,
   "metadata": {},
   "outputs": [
    {
     "ename": "NameError",
     "evalue": "name 'conv_model' is not defined",
     "output_type": "error",
     "traceback": [
      "\u001b[0;31m---------------------------------------------------------------------------\u001b[0m",
      "\u001b[0;31mNameError\u001b[0m                                 Traceback (most recent call last)",
      "\u001b[0;32m<ipython-input-4-84b4345809d0>\u001b[0m in \u001b[0;36m<module>\u001b[0;34m()\u001b[0m\n\u001b[1;32m      1\u001b[0m \u001b[0mLEARNING_RATE\u001b[0m \u001b[0;34m=\u001b[0m \u001b[0;36m1e-4\u001b[0m\u001b[0;34m\u001b[0m\u001b[0;34m\u001b[0m\u001b[0m\n\u001b[0;32m----> 2\u001b[0;31m conv_model.compile(loss='categorical_crossentropy',\n\u001b[0m\u001b[1;32m      3\u001b[0m                    \u001b[0moptimizer\u001b[0m\u001b[0;34m=\u001b[0m\u001b[0moptimizers\u001b[0m\u001b[0;34m.\u001b[0m\u001b[0mRMSprop\u001b[0m\u001b[0;34m(\u001b[0m\u001b[0mlr\u001b[0m\u001b[0;34m=\u001b[0m\u001b[0mLEARNING_RATE\u001b[0m\u001b[0;34m)\u001b[0m\u001b[0;34m,\u001b[0m\u001b[0;34m\u001b[0m\u001b[0;34m\u001b[0m\u001b[0m\n\u001b[1;32m      4\u001b[0m                    metrics=['acc'])\n",
      "\u001b[0;31mNameError\u001b[0m: name 'conv_model' is not defined"
     ]
    }
   ],
   "source": [
    "LEARNING_RATE = 1e-4\n",
    "conv_model.compile(loss='categorical_crossentropy',\n",
    "                   optimizer=optimizers.RMSprop(lr=LEARNING_RATE),\n",
    "                   metrics=['acc'])"
   ]
  },
  {
   "cell_type": "code",
   "execution_count": null,
   "metadata": {
    "scrolled": false
   },
   "outputs": [],
   "source": [
    "reset_weights(conv_model)\n",
    "# history_conv = conv_model.fit(np.array(dictionary[\"image\"]), np.array(dictionary[\"vector\"]), \n",
    "#                               validation_data = (np.array(dictionary[\"image\"]), np.array(dictionary[\"vector\"])), \n",
    "#                               epochs=20, \n",
    "#                               batch_size=8)\n",
    "\n",
    "history_conv = conv_model.fit_generator(training_generator,steps_per_epoch=(len(x_train)*0.8)//64, epochs=60, validation_data=validation_generator, validation_steps=(len(x_train)*0.2)//64)"
   ]
  },
  {
   "cell_type": "code",
   "execution_count": null,
   "metadata": {
    "scrolled": true
   },
   "outputs": [],
   "source": [
    "plt.plot(history_conv.history['loss'])\n",
    "plt.plot(history_conv.history['val_loss'])\n",
    "plt.title('model loss')\n",
    "plt.ylabel('loss')\n",
    "plt.xlabel('epoch')\n",
    "plt.legend(['train loss', 'val loss'], loc='upper left')\n",
    "plt.show()\n"
   ]
  },
  {
   "cell_type": "code",
   "execution_count": null,
   "metadata": {},
   "outputs": [],
   "source": [
    "plt.plot(history_conv.history['acc'])\n",
    "plt.plot(history_conv.history['val_acc'])\n",
    "plt.title('model accuracy')\n",
    "plt.ylabel('accuracy (%)')\n",
    "plt.xlabel('epoch')\n",
    "plt.legend(['train accuracy', 'val accuracy'], loc='upper left')\n",
    "plt.show()\n"
   ]
  },
  {
   "cell_type": "code",
   "execution_count": null,
   "metadata": {},
   "outputs": [],
   "source": [
    "#save the trained model\n",
    "conv_model.save(\"plateModel.h5\")\n",
    "print(\"Saved model to disk\")"
   ]
  },
  {
   "cell_type": "code",
   "execution_count": 6,
   "metadata": {
    "scrolled": true
   },
   "outputs": [
    {
     "name": "stderr",
     "output_type": "stream",
     "text": [
      "Using TensorFlow backend.\n"
     ]
    },
    {
     "name": "stdout",
     "output_type": "stream",
     "text": [
      "WARNING:tensorflow:From /home/fizzer/.local/lib/python2.7/site-packages/keras/backend/tensorflow_backend.py:4070: The name tf.nn.max_pool is deprecated. Please use tf.nn.max_pool2d instead.\n",
      "\n",
      "WARNING:tensorflow:From /home/fizzer/.local/lib/python2.7/site-packages/keras/backend/tensorflow_backend.py:422: The name tf.global_variables is deprecated. Please use tf.compat.v1.global_variables instead.\n",
      "\n",
      "Model: \"sequential_1\"\n",
      "_________________________________________________________________\n",
      "Layer (type)                 Output Shape              Param #   \n",
      "=================================================================\n",
      "conv2d_1 (Conv2D)            (None, 20, 16, 32)        896       \n",
      "_________________________________________________________________\n",
      "max_pooling2d_1 (MaxPooling2 (None, 10, 8, 32)         0         \n",
      "_________________________________________________________________\n",
      "conv2d_2 (Conv2D)            (None, 8, 6, 64)          18496     \n",
      "_________________________________________________________________\n",
      "max_pooling2d_2 (MaxPooling2 (None, 4, 3, 64)          0         \n",
      "_________________________________________________________________\n",
      "conv2d_3 (Conv2D)            (None, 2, 1, 128)         73856     \n",
      "_________________________________________________________________\n",
      "max_pooling2d_3 (MaxPooling2 (None, 1, 1, 128)         0         \n",
      "_________________________________________________________________\n",
      "flatten_1 (Flatten)          (None, 128)               0         \n",
      "_________________________________________________________________\n",
      "dropout_1 (Dropout)          (None, 128)               0         \n",
      "_________________________________________________________________\n",
      "dense_1 (Dense)              (None, 512)               66048     \n",
      "_________________________________________________________________\n",
      "dense_2 (Dense)              (None, 36)                18468     \n",
      "=================================================================\n",
      "Total params: 177,764\n",
      "Trainable params: 177,764\n",
      "Non-trainable params: 0\n",
      "_________________________________________________________________\n"
     ]
    }
   ],
   "source": [
    "#reload model for further training\n",
    "from numpy import loadtxt\n",
    "from keras.models import load_model\n",
    " \n",
    "# load model\n",
    "loaded_model = load_model('plateModel.h5')\n",
    "# summarize model.\n",
    "loaded_model.summary()\n",
    "# load dataset"
   ]
  },
  {
   "cell_type": "code",
   "execution_count": null,
   "metadata": {},
   "outputs": [],
   "source": [
    "\n",
    "# confusion = []\n",
    "# for i in range(0,len(dictionary[\"image\"])-1):\n",
    "#     img_aug = np.expand_dims(dictionary[\"image\"][i], axis=0)\n",
    "#     y_predict = conv_model.predict(img_aug)\n",
    "#     confusion.append(abs(y_predict - dictionary[\"vector\"][i]))\n",
    "\n",
    "\n"
   ]
  },
  {
   "cell_type": "code",
   "execution_count": 9,
   "metadata": {},
   "outputs": [
    {
     "ename": "NameError",
     "evalue": "global name 'x_train' is not defined",
     "output_type": "error",
     "traceback": [
      "\u001b[0;31m---------------------------------------------------------------------------\u001b[0m",
      "\u001b[0;31mNameError\u001b[0m                                 Traceback (most recent call last)",
      "\u001b[0;32m<ipython-input-9-65289e595711>\u001b[0m in \u001b[0;36m<module>\u001b[0;34m()\u001b[0m\n\u001b[1;32m     31\u001b[0m    \u001b[0mconfused\u001b[0m\u001b[0;34m.\u001b[0m\u001b[0mappend\u001b[0m\u001b[0;34m(\u001b[0m\u001b[0;36m1\u001b[0m\u001b[0;34m)\u001b[0m\u001b[0;34m\u001b[0m\u001b[0;34m\u001b[0m\u001b[0m\n\u001b[1;32m     32\u001b[0m \u001b[0;32mfor\u001b[0m \u001b[0mi\u001b[0m \u001b[0;32min\u001b[0m \u001b[0mrange\u001b[0m\u001b[0;34m(\u001b[0m\u001b[0;36m2000\u001b[0m\u001b[0;34m)\u001b[0m\u001b[0;34m:\u001b[0m\u001b[0;34m\u001b[0m\u001b[0;34m\u001b[0m\u001b[0m\n\u001b[0;32m---> 33\u001b[0;31m     \u001b[0mdisplayImage\u001b[0m\u001b[0;34m(\u001b[0m\u001b[0mi\u001b[0m\u001b[0;34m)\u001b[0m\u001b[0;34m\u001b[0m\u001b[0;34m\u001b[0m\u001b[0m\n\u001b[0m\u001b[1;32m     34\u001b[0m \u001b[0;32mprint\u001b[0m\u001b[0;34m(\u001b[0m\u001b[0mlen\u001b[0m\u001b[0;34m(\u001b[0m\u001b[0mconfused\u001b[0m\u001b[0;34m)\u001b[0m\u001b[0;34m)\u001b[0m\u001b[0;34m\u001b[0m\u001b[0;34m\u001b[0m\u001b[0m\n",
      "\u001b[0;32m<ipython-input-9-65289e595711>\u001b[0m in \u001b[0;36mdisplayImage\u001b[0;34m(index)\u001b[0m\n\u001b[1;32m     10\u001b[0m \u001b[0;34m\u001b[0m\u001b[0m\n\u001b[1;32m     11\u001b[0m \u001b[0;32mdef\u001b[0m \u001b[0mdisplayImage\u001b[0m\u001b[0;34m(\u001b[0m\u001b[0mindex\u001b[0m\u001b[0;34m)\u001b[0m\u001b[0;34m:\u001b[0m\u001b[0;34m\u001b[0m\u001b[0;34m\u001b[0m\u001b[0m\n\u001b[0;32m---> 12\u001b[0;31m   \u001b[0mimg\u001b[0m \u001b[0;34m=\u001b[0m \u001b[0mx_train\u001b[0m\u001b[0;34m[\u001b[0m\u001b[0mindex\u001b[0m\u001b[0;34m]\u001b[0m\u001b[0;34m\u001b[0m\u001b[0;34m\u001b[0m\u001b[0m\n\u001b[0m\u001b[1;32m     13\u001b[0m \u001b[0;31m#   img = cv2.blur(img,(19,19))\u001b[0m\u001b[0;34m\u001b[0m\u001b[0;34m\u001b[0m\u001b[0;34m\u001b[0m\u001b[0m\n\u001b[1;32m     14\u001b[0m \u001b[0;31m#   img =  rotateImage(img,4)\u001b[0m\u001b[0;34m\u001b[0m\u001b[0;34m\u001b[0m\u001b[0;34m\u001b[0m\u001b[0m\n",
      "\u001b[0;31mNameError\u001b[0m: global name 'x_train' is not defined"
     ]
    }
   ],
   "source": [
    "# # Display images in the training data set. \n",
    "# def rotateImage(image, angle):\n",
    "#   image_center = tuple(np.array(image.shape[1::-1]) / 2)\n",
    "#   rot_mat = cv2.getRotationMatrix2D(image_center, angle, 1.0)\n",
    "#   result = cv2.warpAffine(image, rot_mat, image.shape[1::-1], flags=cv2.INTER_LINEAR)\n",
    "#   return result\n",
    "\n",
    "confused = []\n",
    "\n",
    "\n",
    "def displayImage(index):\n",
    "  img = x_train[index]\n",
    "#   img = cv2.blur(img,(19,19))\n",
    "#   img =  rotateImage(img,4)\n",
    "  img_aug = np.expand_dims(img, axis=0)\n",
    "  y_predict = conv_model.predict(img_aug)[0]\n",
    "#   print(y_predict)\n",
    "  plt.imshow(img)\n",
    "  predictVal = max(y_predict)\n",
    "#   print(predictVal)\n",
    "  predictedVal_index = np.where(y_predict == predictVal)[0][0]\n",
    "  predictedVal = labels[predictedVal_index]\n",
    "  groundTruth_index = np.where(y_train[index] == 1)[0][0]\n",
    "  groundTruth = labels[groundTruth_index]\n",
    "#   print(\"predicted value:\",format(predictedVal))\n",
    "#   print(\"ground truth:\",format(groundTruth))\n",
    "#   print(\"hi\")    \n",
    "  if (predictedVal != groundTruth):\n",
    "   print(\"predicted value:\",format(predictedVal))\n",
    "   print(\"ground truth:\",format(groundTruth))\n",
    "   confused.append(1)\n",
    "for i in range(2000):\n",
    "    displayImage(i)\n",
    "print(len(confused))\n"
   ]
  },
  {
   "cell_type": "code",
   "execution_count": 2,
   "metadata": {},
   "outputs": [
    {
     "ename": "NameError",
     "evalue": "name 'ImageDataGenerator' is not defined",
     "output_type": "error",
     "traceback": [
      "\u001b[0;31m---------------------------------------------------------------------------\u001b[0m",
      "\u001b[0;31mNameError\u001b[0m                                 Traceback (most recent call last)",
      "\u001b[0;32m<ipython-input-2-a2180bdccf08>\u001b[0m in \u001b[0;36m<module>\u001b[0;34m()\u001b[0m\n\u001b[1;32m      3\u001b[0m     \u001b[0;32mreturn\u001b[0m \u001b[0mcv2\u001b[0m\u001b[0;34m.\u001b[0m\u001b[0mGaussianBlur\u001b[0m\u001b[0;34m(\u001b[0m\u001b[0mgrayImage\u001b[0m\u001b[0;34m,\u001b[0m\u001b[0;34m(\u001b[0m\u001b[0mkernelSize\u001b[0m\u001b[0;34m,\u001b[0m\u001b[0mkernelSize\u001b[0m\u001b[0;34m)\u001b[0m\u001b[0;34m,\u001b[0m\u001b[0mcv2\u001b[0m\u001b[0;34m.\u001b[0m\u001b[0mBORDER_DEFAULT\u001b[0m\u001b[0;34m)\u001b[0m\u001b[0;34m\u001b[0m\u001b[0;34m\u001b[0m\u001b[0m\n\u001b[1;32m      4\u001b[0m \u001b[0;34m\u001b[0m\u001b[0m\n\u001b[0;32m----> 5\u001b[0;31m realDataGen = ImageDataGenerator(\n\u001b[0m\u001b[1;32m      6\u001b[0m                               \u001b[0mbrightness_range\u001b[0m\u001b[0;34m=\u001b[0m\u001b[0;34m[\u001b[0m\u001b[0;36m0.8\u001b[0m\u001b[0;34m,\u001b[0m\u001b[0;36m1.0\u001b[0m\u001b[0;34m]\u001b[0m\u001b[0;34m,\u001b[0m\u001b[0;34m\u001b[0m\u001b[0;34m\u001b[0m\u001b[0m\n\u001b[1;32m      7\u001b[0m                               \u001b[0mrotation_range\u001b[0m \u001b[0;34m=\u001b[0m \u001b[0;36m10\u001b[0m\u001b[0;34m,\u001b[0m\u001b[0;34m\u001b[0m\u001b[0;34m\u001b[0m\u001b[0m\n",
      "\u001b[0;31mNameError\u001b[0m: name 'ImageDataGenerator' is not defined"
     ]
    }
   ],
   "source": [
    "def blurData(grayImage):\n",
    "    kernelSize = random.randrange(1, 3+1, 2)\n",
    "    return cv2.GaussianBlur(grayImage,(kernelSize,kernelSize),cv2.BORDER_DEFAULT)\n",
    "\n",
    "realDataGen = ImageDataGenerator(\n",
    "                              brightness_range=[0.8,1.0],\n",
    "                              rotation_range = 10,\n",
    "                              zoom_range = [0.8,1],\n",
    "#                               validation_split = 0.2,\n",
    "#                               width_shift_range = 0.2,\n",
    "#                              height_shift_range = 0.2,\n",
    "                             shear_range=0.2,\n",
    "#                              validation_split = 0.2,\n",
    "                             preprocessing_function = blurData\n",
    "    \n",
    "                            )"
   ]
  },
  {
   "cell_type": "code",
   "execution_count": 7,
   "metadata": {},
   "outputs": [],
   "source": [
    "# second round of training with real data from the world\n",
    "dataDictionary = {\"image\" : [] , \"vector\": [], \"label\": []}\n",
    "dataPath = \"./realData\""
   ]
  },
  {
   "cell_type": "code",
   "execution_count": null,
   "metadata": {},
   "outputs": [],
   "source": []
  },
  {
   "cell_type": "code",
   "execution_count": 8,
   "metadata": {},
   "outputs": [
    {
     "name": "stdout",
     "output_type": "stream",
     "text": [
      "(22, 18, 3)\n",
      "(22, 18, 3)\n",
      "(22, 18, 3)\n",
      "(22, 18, 3)\n",
      "(22, 18, 3)\n",
      "(22, 18, 3)\n",
      "(22, 18, 3)\n",
      "(22, 18, 3)\n",
      "(22, 18, 3)\n",
      "(22, 18, 3)\n",
      "(22, 18, 3)\n",
      "(22, 18, 3)\n",
      "(22, 18, 3)\n",
      "(22, 18, 3)\n",
      "(22, 18, 3)\n",
      "(22, 18, 3)\n",
      "(22, 18, 3)\n",
      "(22, 18, 3)\n",
      "(22, 18, 3)\n",
      "(22, 18, 3)\n",
      "(22, 18, 3)\n",
      "(22, 18, 3)\n",
      "(22, 18, 3)\n",
      "(22, 18, 3)\n",
      "(22, 18, 3)\n",
      "(22, 18, 3)\n",
      "(22, 18, 3)\n",
      "(22, 18, 3)\n",
      "(22, 18, 3)\n",
      "(22, 18, 3)\n",
      "(22, 18, 3)\n",
      "(22, 18, 3)\n",
      "(22, 18, 3)\n",
      "(22, 18, 3)\n",
      "(22, 18, 3)\n",
      "(22, 18, 3)\n",
      "(22, 18, 3)\n",
      "(22, 18, 3)\n",
      "(22, 18, 3)\n",
      "(22, 18, 3)\n",
      "(22, 18, 3)\n",
      "(22, 18, 3)\n",
      "(22, 18, 3)\n",
      "(22, 18, 3)\n",
      "(22, 18, 3)\n",
      "(22, 18, 3)\n",
      "(22, 18, 3)\n",
      "(22, 18, 3)\n",
      "(22, 18, 3)\n",
      "(22, 18, 3)\n",
      "(22, 18, 3)\n",
      "(22, 18, 3)\n",
      "(22, 18, 3)\n",
      "(22, 18, 3)\n",
      "(22, 18, 3)\n",
      "(22, 18, 3)\n",
      "(22, 18, 3)\n",
      "(22, 18, 3)\n",
      "(22, 18, 3)\n",
      "(22, 18, 3)\n",
      "(22, 18, 3)\n",
      "(22, 18, 3)\n",
      "(22, 18, 3)\n",
      "(22, 18, 3)\n",
      "(22, 18, 3)\n",
      "(22, 18, 3)\n",
      "(22, 18, 3)\n",
      "(22, 18, 3)\n",
      "(22, 18, 3)\n",
      "(22, 18, 3)\n",
      "(22, 18, 3)\n",
      "(22, 18, 3)\n",
      "(22, 18, 3)\n",
      "(22, 18, 3)\n",
      "(22, 18, 3)\n",
      "(22, 18, 3)\n",
      "(22, 18, 3)\n",
      "(22, 18, 3)\n",
      "(22, 18, 3)\n",
      "(22, 18, 3)\n",
      "(22, 18, 3)\n",
      "(22, 18, 3)\n",
      "(22, 18, 3)\n",
      "(22, 18, 3)\n",
      "(22, 18, 3)\n",
      "(22, 18, 3)\n",
      "(22, 18, 3)\n",
      "(22, 18, 3)\n",
      "(22, 18, 3)\n",
      "(22, 18, 3)\n",
      "(22, 18, 3)\n",
      "(22, 18, 3)\n",
      "(22, 18, 3)\n",
      "(22, 18, 3)\n",
      "(22, 18, 3)\n"
     ]
    },
    {
     "data": {
      "image/png": "[encoded data removed]",
      "text/plain": [
       "<Figure size 432x288 with 1 Axes>"
      ]
     },
     "metadata": {
      "needs_background": "light"
     },
     "output_type": "display_data"
    },
    {
     "data": {
      "image/png": "[encoded data removed]",
      "text/plain": [
       "<Figure size 720x360 with 6 Axes>"
      ]
     },
     "metadata": {
      "needs_background": "light"
     },
     "output_type": "display_data"
    },
    {
     "data": {
      "text/plain": [
       "95"
      ]
     },
     "execution_count": 8,
     "metadata": {},
     "output_type": "execute_result"
    }
   ],
   "source": [
    "\n",
    "for file in os.listdir(numberDataPath):\n",
    "    if(file.endswith('.png')):\n",
    "        image = cv2.imread(dataPath + '/' + file)\n",
    "        image = cv2.resize(image,(inputWidth,inputHeight))\n",
    "#         print(image.shape)\n",
    "        grayImage = cv2.cvtColor(image,cv2.COLOR_BGR2GRAY)\n",
    "        grayImage3 = np.repeat(grayImage[..., np.newaxis], 3, -1)\n",
    "        print(grayImage3.shape)\n",
    "        \n",
    "#         imageBlur = cv2.GaussianBlur(image,(11,11),cv2.BORDER_DEFAULT)\n",
    "        dataLabel = file[0]\n",
    "        #creating the vector\n",
    "        vec = [0] * 36\n",
    "        index = labels.index(dataLabel)\n",
    "        vec[index] = 1\n",
    "#         print(grayImage)\n",
    "        dataDictionary[\"image\"].append(grayImage3/255.0)#?\n",
    "        dataDictionary[\"vector\"].append(vec)\n",
    "        dataDictionary[\"label\"].append(dataLabel)\n",
    "        plt.imshow(grayImage3)\n",
    "#         print(grayImage3)\n",
    "#data augmentation\n",
    "datax_train = np.array(dataDictionary[\"image\"])\n",
    "datay_train = np.array(dataDictionary[\"vector\"])\n",
    "\n",
    "def blurData(grayImage):\n",
    "    kernelSize = random.randrange(1, 3+1, 2)\n",
    "    return cv2.GaussianBlur(grayImage,(kernelSize,kernelSize),cv2.BORDER_DEFAULT)\n",
    "\n",
    "realDataGen = ImageDataGenerator(\n",
    "                              brightness_range=[0.8,1.0],\n",
    "                              rotation_range = 10,\n",
    "                              zoom_range = [0.8,1],\n",
    "#                               validation_split = 0.2,\n",
    "#                               width_shift_range = 0.2,\n",
    "#                              height_shift_range = 0.2,\n",
    "                             shear_range=0.2,\n",
    "#                              validation_split = 0.2,\n",
    "                             preprocessing_function = blurData\n",
    "    \n",
    "                            )\n",
    "data_training_generator = realDataGen.flow(datax_train,datay_train,batch_size=64)\n",
    "# validation_generator = realDataGen.flow(datax_train, datay_train, batch_size=64,subset='validation')\n",
    "\n",
    "plt.figure(figsize=(10,5))\n",
    "for i in range(6):\n",
    "    plt.subplot(2,3,i+1)\n",
    "    for x,y in data_training_generator:\n",
    "        plt.imshow((x[0]/255),cmap='gray')\n",
    "#         plt.title('y={}'.format(y[0]))\n",
    "        plt.axis('off')\n",
    "        break\n",
    "plt.tight_layout()\n",
    "plt.show()\n",
    "len(datax_train)"
   ]
  },
  {
   "cell_type": "code",
   "execution_count": null,
   "metadata": {},
   "outputs": [],
   "source": [
    "x_train\n"
   ]
  },
  {
   "cell_type": "code",
   "execution_count": null,
   "metadata": {},
   "outputs": [],
   "source": [
    "datax_train"
   ]
  },
  {
   "cell_type": "code",
   "execution_count": 9,
   "metadata": {
    "scrolled": true
   },
   "outputs": [
    {
     "name": "stdout",
     "output_type": "stream",
     "text": [
      "Epoch 1/60\n",
      "1/1 [==============================] - 0s 375ms/step - loss: 2.7495 - acc: 0.6406 - val_loss: 1.3720 - val_acc: 0.8211\n",
      "Epoch 2/60\n",
      "1/1 [==============================] - 0s 274ms/step - loss: 3.5258 - acc: 0.5161 - val_loss: 0.4138 - val_acc: 0.8316\n",
      "Epoch 3/60\n",
      "1/1 [==============================] - 0s 75ms/step - loss: 1.5228 - acc: 0.6774 - val_loss: 0.8221 - val_acc: 0.8737\n",
      "Epoch 4/60\n",
      "1/1 [==============================] - 0s 199ms/step - loss: 1.7943 - acc: 0.7031 - val_loss: 0.2671 - val_acc: 0.8211\n",
      "Epoch 5/60\n",
      "1/1 [==============================] - 0s 108ms/step - loss: 2.0224 - acc: 0.6452 - val_loss: 0.3781 - val_acc: 0.8316\n",
      "Epoch 6/60\n",
      "1/1 [==============================] - 0s 190ms/step - loss: 1.9713 - acc: 0.6250 - val_loss: 1.3188 - val_acc: 0.8316\n",
      "Epoch 7/60\n",
      "1/1 [==============================] - 0s 114ms/step - loss: 1.3185 - acc: 0.6719 - val_loss: 1.8101 - val_acc: 0.8632\n",
      "Epoch 8/60\n",
      "1/1 [==============================] - 0s 180ms/step - loss: 2.0889 - acc: 0.6129 - val_loss: 0.4978 - val_acc: 0.8526\n",
      "Epoch 9/60\n",
      "1/1 [==============================] - 0s 117ms/step - loss: 0.7424 - acc: 0.7742 - val_loss: 0.0715 - val_acc: 0.8526\n",
      "Epoch 10/60\n",
      "1/1 [==============================] - 0s 190ms/step - loss: 1.1229 - acc: 0.7500 - val_loss: 1.8894 - val_acc: 0.8947\n",
      "Epoch 11/60\n",
      "1/1 [==============================] - 0s 116ms/step - loss: 2.6324 - acc: 0.6452 - val_loss: 1.5657 - val_acc: 0.8947\n",
      "Epoch 12/60\n",
      "1/1 [==============================] - 0s 188ms/step - loss: 0.7819 - acc: 0.7500 - val_loss: 0.9308 - val_acc: 0.8632\n",
      "Epoch 13/60\n",
      "1/1 [==============================] - 0s 124ms/step - loss: 0.8741 - acc: 0.8710 - val_loss: 0.6727 - val_acc: 0.8842\n",
      "Epoch 14/60\n",
      "1/1 [==============================] - 0s 108ms/step - loss: 1.1230 - acc: 0.6875 - val_loss: 1.1633 - val_acc: 0.8842\n",
      "Epoch 15/60\n",
      "1/1 [==============================] - 0s 166ms/step - loss: 0.6585 - acc: 0.8065 - val_loss: 0.6245 - val_acc: 0.8842\n",
      "Epoch 16/60\n",
      "1/1 [==============================] - 0s 173ms/step - loss: 0.9123 - acc: 0.7812 - val_loss: 1.8547 - val_acc: 0.8842\n",
      "Epoch 17/60\n",
      "1/1 [==============================] - 0s 152ms/step - loss: 1.9798 - acc: 0.7742 - val_loss: 0.0728 - val_acc: 0.9053\n",
      "Epoch 18/60\n",
      "1/1 [==============================] - 0s 103ms/step - loss: 1.0914 - acc: 0.7188 - val_loss: 0.8013 - val_acc: 0.9158\n",
      "Epoch 19/60\n",
      "1/1 [==============================] - 0s 152ms/step - loss: 1.3373 - acc: 0.7031 - val_loss: 0.3314 - val_acc: 0.8842\n",
      "Epoch 20/60\n",
      "1/1 [==============================] - 0s 199ms/step - loss: 0.7281 - acc: 0.8387 - val_loss: 0.3618 - val_acc: 0.9158\n",
      "Epoch 21/60\n",
      "1/1 [==============================] - 0s 146ms/step - loss: 0.7349 - acc: 0.8125 - val_loss: 0.7525 - val_acc: 0.9158\n",
      "Epoch 22/60\n",
      "1/1 [==============================] - 0s 97ms/step - loss: 1.7919 - acc: 0.6774 - val_loss: 0.6078 - val_acc: 0.9158\n",
      "Epoch 23/60\n",
      "1/1 [==============================] - 0s 136ms/step - loss: 1.2222 - acc: 0.7500 - val_loss: 0.1708 - val_acc: 0.9158\n",
      "Epoch 24/60\n",
      "1/1 [==============================] - 0s 168ms/step - loss: 0.4914 - acc: 0.8710 - val_loss: 0.1346 - val_acc: 0.9053\n",
      "Epoch 25/60\n",
      "1/1 [==============================] - 0s 96ms/step - loss: 1.4746 - acc: 0.7097 - val_loss: 0.5339 - val_acc: 0.9579\n",
      "Epoch 26/60\n",
      "1/1 [==============================] - 0s 106ms/step - loss: 0.6625 - acc: 0.7812 - val_loss: 0.1236 - val_acc: 0.9263\n",
      "Epoch 27/60\n",
      "1/1 [==============================] - 0s 164ms/step - loss: 1.2673 - acc: 0.6774 - val_loss: 0.4865 - val_acc: 0.9158\n",
      "Epoch 28/60\n",
      "1/1 [==============================] - 0s 129ms/step - loss: 0.9587 - acc: 0.7031 - val_loss: 0.1937 - val_acc: 0.9158\n",
      "Epoch 29/60\n",
      "1/1 [==============================] - 0s 156ms/step - loss: 0.4134 - acc: 0.8387 - val_loss: 0.1260 - val_acc: 0.9263\n",
      "Epoch 30/60\n",
      "1/1 [==============================] - 0s 152ms/step - loss: 0.9408 - acc: 0.7344 - val_loss: 0.5171 - val_acc: 0.9263\n",
      "Epoch 31/60\n",
      "1/1 [==============================] - 0s 98ms/step - loss: 0.7494 - acc: 0.7419 - val_loss: 0.8139 - val_acc: 0.8737\n",
      "Epoch 32/60\n",
      "1/1 [==============================] - 0s 131ms/step - loss: 1.1293 - acc: 0.7812 - val_loss: 0.2198 - val_acc: 0.8947\n",
      "Epoch 33/60\n",
      "1/1 [==============================] - 0s 168ms/step - loss: 0.8017 - acc: 0.7969 - val_loss: 0.1893 - val_acc: 0.9263\n",
      "Epoch 34/60\n",
      "1/1 [==============================] - 0s 130ms/step - loss: 0.5474 - acc: 0.7742 - val_loss: 0.2270 - val_acc: 0.8947\n",
      "Epoch 35/60\n",
      "1/1 [==============================] - 0s 167ms/step - loss: 0.4933 - acc: 0.8125 - val_loss: 0.1522 - val_acc: 0.9263\n",
      "Epoch 36/60\n",
      "1/1 [==============================] - 0s 113ms/step - loss: 0.7526 - acc: 0.7097 - val_loss: 0.2128 - val_acc: 0.9263\n",
      "Epoch 37/60\n",
      "1/1 [==============================] - 0s 133ms/step - loss: 1.3226 - acc: 0.6562 - val_loss: 0.0836 - val_acc: 0.9158\n",
      "Epoch 38/60\n",
      "1/1 [==============================] - 0s 150ms/step - loss: 0.7911 - acc: 0.8065 - val_loss: 0.2437 - val_acc: 0.9158\n",
      "Epoch 39/60\n",
      "1/1 [==============================] - 0s 100ms/step - loss: 0.6287 - acc: 0.7969 - val_loss: 0.6182 - val_acc: 0.9368\n",
      "Epoch 40/60\n",
      "1/1 [==============================] - 0s 117ms/step - loss: 0.9938 - acc: 0.6774 - val_loss: 0.2928 - val_acc: 0.9263\n",
      "Epoch 41/60\n",
      "1/1 [==============================] - 0s 152ms/step - loss: 0.7662 - acc: 0.7097 - val_loss: 0.8951 - val_acc: 0.9263\n",
      "Epoch 42/60\n",
      "1/1 [==============================] - 0s 162ms/step - loss: 0.7533 - acc: 0.8438 - val_loss: 0.4361 - val_acc: 0.9158\n",
      "Epoch 43/60\n",
      "1/1 [==============================] - 0s 165ms/step - loss: 0.3474 - acc: 0.8710 - val_loss: 0.1941 - val_acc: 0.9053\n",
      "Epoch 44/60\n",
      "1/1 [==============================] - 0s 134ms/step - loss: 0.7782 - acc: 0.7500 - val_loss: 0.2111 - val_acc: 0.9158\n",
      "Epoch 45/60\n",
      "1/1 [==============================] - 0s 166ms/step - loss: 0.8582 - acc: 0.7419 - val_loss: 0.2227 - val_acc: 0.9263\n",
      "Epoch 46/60\n",
      "1/1 [==============================] - 0s 163ms/step - loss: 0.9120 - acc: 0.7812 - val_loss: 0.3710 - val_acc: 0.9158\n",
      "Epoch 47/60\n",
      "1/1 [==============================] - 0s 138ms/step - loss: 0.5205 - acc: 0.8594 - val_loss: 0.3609 - val_acc: 0.9474\n",
      "Epoch 48/60\n",
      "1/1 [==============================] - 0s 129ms/step - loss: 0.7937 - acc: 0.7419 - val_loss: 0.7059 - val_acc: 0.9263\n",
      "Epoch 49/60\n",
      "1/1 [==============================] - 0s 166ms/step - loss: 0.6844 - acc: 0.7812 - val_loss: 0.1331 - val_acc: 0.9368\n",
      "Epoch 50/60\n",
      "1/1 [==============================] - 0s 161ms/step - loss: 0.9920 - acc: 0.8065 - val_loss: 0.1597 - val_acc: 0.9263\n",
      "Epoch 51/60\n",
      "1/1 [==============================] - 0s 136ms/step - loss: 0.4992 - acc: 0.8065 - val_loss: 0.1620 - val_acc: 0.9158\n",
      "Epoch 52/60\n",
      "1/1 [==============================] - 0s 166ms/step - loss: 0.9868 - acc: 0.7344 - val_loss: 0.2413 - val_acc: 0.9158\n",
      "Epoch 53/60\n",
      "1/1 [==============================] - 0s 133ms/step - loss: 0.8089 - acc: 0.7969 - val_loss: 0.4946 - val_acc: 0.9368\n",
      "Epoch 54/60\n",
      "1/1 [==============================] - 0s 150ms/step - loss: 0.8768 - acc: 0.7742 - val_loss: 0.4726 - val_acc: 0.9684\n",
      "Epoch 55/60\n",
      "1/1 [==============================] - 0s 146ms/step - loss: 0.7851 - acc: 0.8065 - val_loss: 0.1836 - val_acc: 0.9263\n",
      "Epoch 56/60\n",
      "1/1 [==============================] - 0s 152ms/step - loss: 0.5519 - acc: 0.7969 - val_loss: 0.1408 - val_acc: 0.9053\n",
      "Epoch 57/60\n",
      "1/1 [==============================] - 0s 146ms/step - loss: 0.6776 - acc: 0.8125 - val_loss: 0.0771 - val_acc: 0.9474\n",
      "Epoch 58/60\n",
      "1/1 [==============================] - 0s 154ms/step - loss: 0.5028 - acc: 0.7097 - val_loss: 0.1521 - val_acc: 0.9684\n",
      "Epoch 59/60\n",
      "1/1 [==============================] - 0s 141ms/step - loss: 0.5009 - acc: 0.8750 - val_loss: 0.3101 - val_acc: 0.9474\n",
      "Epoch 60/60\n",
      "1/1 [==============================] - 0s 149ms/step - loss: 0.4513 - acc: 0.8387 - val_loss: 0.3245 - val_acc: 0.9158\n"
     ]
    }
   ],
   "source": [
    "\n",
    "loaded_history = loaded_model.fit_generator(data_training_generator,steps_per_epoch=(len(datax_train)*0.8)//64, epochs=60, validation_data=data_training_generator, validation_steps=(len(datax_train)*0.2)//64)"
   ]
  },
  {
   "cell_type": "code",
   "execution_count": 10,
   "metadata": {},
   "outputs": [
    {
     "name": "stdout",
     "output_type": "stream",
     "text": [
      "Saved model to disk\n"
     ]
    }
   ],
   "source": [
    "#save the trained model\n",
    "loaded_model.save(\"modelWithRealData.h5\")\n",
    "print(\"Saved model to disk\")"
   ]
  },
  {
   "cell_type": "code",
   "execution_count": 4,
   "metadata": {},
   "outputs": [
    {
     "name": "stderr",
     "output_type": "stream",
     "text": [
      "Using TensorFlow backend.\n"
     ]
    },
    {
     "name": "stdout",
     "output_type": "stream",
     "text": [
      "WARNING:tensorflow:From /home/fizzer/.local/lib/python2.7/site-packages/keras/backend/tensorflow_backend.py:4070: The name tf.nn.max_pool is deprecated. Please use tf.nn.max_pool2d instead.\n",
      "\n",
      "WARNING:tensorflow:From /home/fizzer/.local/lib/python2.7/site-packages/keras/backend/tensorflow_backend.py:422: The name tf.global_variables is deprecated. Please use tf.compat.v1.global_variables instead.\n",
      "\n",
      "Model: \"sequential_1\"\n",
      "_________________________________________________________________\n",
      "Layer (type)                 Output Shape              Param #   \n",
      "=================================================================\n",
      "conv2d_1 (Conv2D)            (None, 20, 16, 32)        896       \n",
      "_________________________________________________________________\n",
      "max_pooling2d_1 (MaxPooling2 (None, 10, 8, 32)         0         \n",
      "_________________________________________________________________\n",
      "conv2d_2 (Conv2D)            (None, 8, 6, 64)          18496     \n",
      "_________________________________________________________________\n",
      "max_pooling2d_2 (MaxPooling2 (None, 4, 3, 64)          0         \n",
      "_________________________________________________________________\n",
      "conv2d_3 (Conv2D)            (None, 2, 1, 128)         73856     \n",
      "_________________________________________________________________\n",
      "max_pooling2d_3 (MaxPooling2 (None, 1, 1, 128)         0         \n",
      "_________________________________________________________________\n",
      "flatten_1 (Flatten)          (None, 128)               0         \n",
      "_________________________________________________________________\n",
      "dropout_1 (Dropout)          (None, 128)               0         \n",
      "_________________________________________________________________\n",
      "dense_1 (Dense)              (None, 512)               66048     \n",
      "_________________________________________________________________\n",
      "dense_2 (Dense)              (None, 36)                18468     \n",
      "=================================================================\n",
      "Total params: 177,764\n",
      "Trainable params: 177,764\n",
      "Non-trainable params: 0\n",
      "_________________________________________________________________\n"
     ]
    }
   ],
   "source": [
    "#reload model for further training\n",
    "from numpy import loadtxt\n",
    "from keras.models import load_model\n",
    " \n",
    "# load model\n",
    "loaded_model = load_model('modelWithRealData.h5')\n",
    "# summarize model.\n",
    "loaded_model.summary()"
   ]
  },
  {
   "cell_type": "code",
   "execution_count": 13,
   "metadata": {
    "scrolled": false
   },
   "outputs": [
    {
     "name": "stdout",
     "output_type": "stream",
     "text": [
      "('predicted value:', 'Z')\n",
      "('ground truth:', '2')\n",
      "('predicted value:', '5')\n",
      "('ground truth:', 'S')\n",
      "('predicted value:', 'S')\n",
      "('ground truth:', '0')\n",
      "('predicted value:', '1')\n",
      "('ground truth:', 'I')\n",
      "('predicted value:', 'Z')\n",
      "('ground truth:', '4')\n",
      "('predicted value:', 'B')\n",
      "('ground truth:', '8')\n",
      "('predicted value:', 'W')\n",
      "('ground truth:', '0')\n",
      "('predicted value:', '6')\n",
      "('ground truth:', '0')\n",
      "('predicted value:', 'N')\n",
      "('ground truth:', '0')\n",
      "('predicted value:', 'B')\n",
      "('ground truth:', '8')\n"
     ]
    },
    {
     "data": {
      "image/png": "[encoded data removed]",
      "text/plain": [
       "<Figure size 432x288 with 1 Axes>"
      ]
     },
     "metadata": {
      "needs_background": "light"
     },
     "output_type": "display_data"
    }
   ],
   "source": [
    "def testModel(img,truth):\n",
    "  grayImg = cv2.cvtColor(img,cv2.COLOR_BGR2GRAY)\n",
    "  img_aug = np.repeat(grayImg[..., np.newaxis], 3, -1)\n",
    "  img_aug = cv2.resize(img_aug,(inputWidth,inputHeight))\n",
    "  img_aug = np.expand_dims(img_aug, axis=0)\n",
    "  y_predict = loaded_model.predict(img_aug)[0]\n",
    "#   print(y_predict)\n",
    "  plt.imshow(img)\n",
    "  predictVal = max(y_predict)\n",
    "#   print(predictVal)\n",
    "  predictedVal_index = np.where(y_predict == predictVal)[0][0]\n",
    "  predictedVal = labels[predictedVal_index]\n",
    "#   groundTruth_index = np.where(datay_train[index] == 1)[0][0]\n",
    "#   groundTruth = labels[groundTruth_index]\n",
    "#   print(\"predicted value:\",format(predictedVal))\n",
    "#   print(\"ground truth:\",format(truth))\n",
    "  if (predictedVal != truth):\n",
    "   print(\"predicted value:\",format(predictedVal))\n",
    "   print(\"ground truth:\",format(truth))\n",
    "\n",
    "\n",
    "dataPath = \"./realData\"\n",
    "minWidth = 4000\n",
    "minHeight = 4000\n",
    "for file in os.listdir(dataPath):\n",
    "    if(file.endswith('.png')):\n",
    "        truth = file[0]\n",
    "        image = cv2.imread(dataPath + '/' + file) #converts to grey scale\n",
    "        width, height, dim = image.shape\n",
    "#         image = cv2.resize(image,(95,170))\n",
    "        plt.imshow(image)\n",
    "        testModel(image,truth)"
   ]
  },
  {
   "cell_type": "code",
   "execution_count": null,
   "metadata": {},
   "outputs": [],
   "source": [
    "def rescale_frame(frame, percent=75):\n",
    "    width = int(frame.shape[1] * percent/ 100)\n",
    "    height = int(frame.shape[0] * percent/ 100)\n",
    "    dim = (width, height)\n",
    "    return cv2.resize(frame, dim, interpolation =cv2.INTER_AREA)\n",
    "newImg = rescale_frame(dictionary[\"image\"][INDEX],10)\n",
    "plt.imshow(newImg)\n",
    "plt.imshow(cv2.resize(newImg,(95,170)))"
   ]
  },
  {
   "cell_type": "code",
   "execution_count": null,
   "metadata": {},
   "outputs": [],
   "source": []
  }
 ],
 "metadata": {
  "kernelspec": {
   "display_name": "Python 2",
   "language": "python",
   "name": "python2"
  },
  "language_info": {
   "codemirror_mode": {
    "name": "ipython",
    "version": 2
   },
   "file_extension": ".py",
   "mimetype": "text/x-python",
   "name": "python",
   "nbconvert_exporter": "python",
   "pygments_lexer": "ipython2",
   "version": "2.7.15+"
  }
 },
 "nbformat": 4,
 "nbformat_minor": 2
}
