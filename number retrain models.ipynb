{
 "cells": [
  {
   "cell_type": "code",
   "execution_count": 14,
   "metadata": {},
   "outputs": [],
   "source": [
    "import math\n",
    "import numpy as np\n",
    "import re\n",
    "import string\n",
    "import cv2\n",
    "import os\n",
    "import errno\n",
    "import random\n",
    "\n",
    "from collections import Counter\n",
    "from matplotlib import pyplot as plt\n",
    "from PIL import Image\n",
    "inputWidth = 18\n",
    "inputHeight = 22"
   ]
  },
  {
   "cell_type": "code",
   "execution_count": 44,
   "metadata": {},
   "outputs": [
    {
     "name": "stdout",
     "output_type": "stream",
     "text": [
      "Model: \"sequential_2\"\n",
      "_________________________________________________________________\n",
      "Layer (type)                 Output Shape              Param #   \n",
      "=================================================================\n",
      "conv2d_4 (Conv2D)            (None, 20, 16, 32)        896       \n",
      "_________________________________________________________________\n",
      "max_pooling2d_4 (MaxPooling2 (None, 10, 8, 32)         0         \n",
      "_________________________________________________________________\n",
      "conv2d_5 (Conv2D)            (None, 8, 6, 64)          18496     \n",
      "_________________________________________________________________\n",
      "max_pooling2d_5 (MaxPooling2 (None, 4, 3, 64)          0         \n",
      "_________________________________________________________________\n",
      "conv2d_6 (Conv2D)            (None, 2, 1, 128)         73856     \n",
      "_________________________________________________________________\n",
      "max_pooling2d_6 (MaxPooling2 (None, 1, 1, 128)         0         \n",
      "_________________________________________________________________\n",
      "flatten_2 (Flatten)          (None, 128)               0         \n",
      "_________________________________________________________________\n",
      "dropout_2 (Dropout)          (None, 128)               0         \n",
      "_________________________________________________________________\n",
      "dense_3 (Dense)              (None, 512)               66048     \n",
      "_________________________________________________________________\n",
      "dense_4 (Dense)              (None, 36)                18468     \n",
      "=================================================================\n",
      "Total params: 177,764\n",
      "Trainable params: 177,764\n",
      "Non-trainable params: 0\n",
      "_________________________________________________________________\n"
     ]
    }
   ],
   "source": [
    "#reload model for further training\n",
    "from numpy import loadtxt\n",
    "from keras.models import load_model\n",
    "\n",
    "from numpy import loadtxt\n",
    "from keras.models import load_model\n",
    "\n",
    "from keras import layers\n",
    "from keras import models\n",
    "from keras import optimizers\n",
    "\n",
    "from keras.utils import plot_model\n",
    "from keras import backend\n",
    "from keras.preprocessing.image import ImageDataGenerator\n",
    " \n",
    "# load model\n",
    "number_loaded_model = load_model('numberRealModel.h5')\n",
    "# summarize model.\n",
    "number_loaded_model.summary()\n",
    "# load dataset"
   ]
  },
  {
   "cell_type": "code",
   "execution_count": 40,
   "metadata": {},
   "outputs": [],
   "source": [
    "def reset_weights(model):\n",
    "    session = backend.get_session()\n",
    "    for layer in model.layers: \n",
    "        if hasattr(layer, 'kernel_initializer'):\n",
    "            layer.kernel.initializer.run(session=session)"
   ]
  },
  {
   "cell_type": "code",
   "execution_count": 2,
   "metadata": {},
   "outputs": [],
   "source": [
    "def blurData(grayImage):\n",
    "    kernelSize = random.randrange(1, 3+1, 2)\n",
    "    return cv2.GaussianBlur(grayImage,(kernelSize,kernelSize),cv2.BORDER_DEFAULT)\n",
    "\n",
    "realDataGen = ImageDataGenerator(\n",
    "                              brightness_range=[0.8,1.0],\n",
    "                              rotation_range = 10,\n",
    "                              zoom_range = [0.8,1],\n",
    "#                               validation_split = 0.2,\n",
    "#                               width_shift_range = 0.2,\n",
    "#                              height_shift_range = 0.2,\n",
    "                             shear_range=0.2,\n",
    "#                              validation_split = 0.2,\n",
    "                             preprocessing_function = blurData\n",
    "    \n",
    "                            )\n"
   ]
  },
  {
   "cell_type": "code",
   "execution_count": 8,
   "metadata": {},
   "outputs": [],
   "source": [
    "# second round of training with real data from the world\n",
    "dataPath = \"./realData\"\n",
    "numberDataPath = dataPath + \"/parkingNumbers\""
   ]
  },
  {
   "cell_type": "code",
   "execution_count": 29,
   "metadata": {},
   "outputs": [
    {
     "data": {
      "image/png": "[encoded data removed]",
      "text/plain": [
       "<Figure size 432x288 with 1 Axes>"
      ]
     },
     "metadata": {
      "needs_background": "light"
     },
     "output_type": "display_data"
    }
   ],
   "source": [
    "numberLabels = ['0','1','2','3','4','5','6','7','8','9']\n",
    "numberDataDictionary = {\"image\" : [] , \"vector\": [], \"label\": []}\n",
    "\n",
    "\n",
    "for file in os.listdir(numberDataPath):\n",
    "    if(file.endswith('.png')):\n",
    "        image = cv2.imread(numberDataPath + '/' + file)\n",
    "        image = cv2.resize(image,(inputWidth,inputHeight))\n",
    "\n",
    "        grayImage = cv2.cvtColor(image,cv2.COLOR_BGR2GRAY)\n",
    "        grayImage3 = np.repeat(grayImage[..., np.newaxis], 3, -1)\n",
    "        plt.imshow(grayImage3)\n",
    "#         imageBlur = cv2.GaussianBlur(image,(11,11),cv2.BORDER_DEFAULT)\n",
    "        dataLabel = file[0]\n",
    "        #creating the vector\n",
    "        vec = [0] * 36\n",
    "        index = numberLabels.index(dataLabel)\n",
    "        vec[index] = 1\n",
    "#         print(grayImage)\n",
    "        numberDataDictionary[\"image\"].append(grayImage3/255.0)#?\n",
    "        numberDataDictionary[\"vector\"].append(vec)\n",
    "        numberDataDictionary[\"label\"].append(dataLabel)\n",
    "        "
   ]
  },
  {
   "cell_type": "code",
   "execution_count": 31,
   "metadata": {},
   "outputs": [
    {
     "data": {
      "image/png": "[encoded data removed]",
      "text/plain": [
       "<Figure size 720x360 with 6 Axes>"
      ]
     },
     "metadata": {
      "needs_background": "light"
     },
     "output_type": "display_data"
    },
    {
     "data": {
      "text/plain": [
       "38"
      ]
     },
     "execution_count": 31,
     "metadata": {},
     "output_type": "execute_result"
    }
   ],
   "source": [
    "\n",
    "datax_train = np.array(numberDataDictionary[\"image\"])\n",
    "datay_train = np.array(numberDataDictionary[\"vector\"])\n",
    "\n",
    "data_training_generator = realDataGen.flow(datax_train,datay_train,batch_size=20)\n",
    "# validation_generator = realDataGen.flow(datax_train, datay_train, batch_size=64,subset='validation')\n",
    "\n",
    "plt.figure(figsize=(10,5))\n",
    "for i in range(6):\n",
    "    plt.subplot(2,3,i+1)\n",
    "    for x,y in data_training_generator:\n",
    "        plt.imshow((x[0]/255),cmap='gray')\n",
    "#         plt.title('y={}'.format(y[0]))\n",
    "        plt.axis('off')\n",
    "        break\n",
    "plt.tight_layout()\n",
    "plt.show()\n",
    "len(datax_train)"
   ]
  },
  {
   "cell_type": "code",
   "execution_count": 46,
   "metadata": {},
   "outputs": [],
   "source": [
    "LEARNING_RATE = 1e-4\n",
    "number_loaded_model.compile(loss='categorical_crossentropy',\n",
    "                   optimizer=optimizers.RMSprop(lr=LEARNING_RATE),\n",
    "                   metrics=['acc'])\n"
   ]
  },
  {
   "cell_type": "code",
   "execution_count": 47,
   "metadata": {},
   "outputs": [
    {
     "name": "stdout",
     "output_type": "stream",
     "text": [
      "Epoch 1/60\n",
      "1/1 [==============================] - 1s 785ms/step - loss: 0.6896 - acc: 0.6500 - val_loss: 0.9276 - val_acc: 0.7000\n",
      "Epoch 2/60\n",
      "1/1 [==============================] - 0s 89ms/step - loss: 1.2470 - acc: 0.6111 - val_loss: 0.0546 - val_acc: 1.0000\n",
      "Epoch 3/60\n",
      "1/1 [==============================] - 0s 155ms/step - loss: 1.1968 - acc: 0.5500 - val_loss: 0.1454 - val_acc: 0.9500\n",
      "Epoch 4/60\n",
      "1/1 [==============================] - 0s 80ms/step - loss: 0.8759 - acc: 0.6667 - val_loss: 0.1452 - val_acc: 0.9444\n",
      "Epoch 5/60\n",
      "1/1 [==============================] - 0s 209ms/step - loss: 0.6625 - acc: 0.7778 - val_loss: 0.1133 - val_acc: 1.0000\n",
      "Epoch 6/60\n",
      "1/1 [==============================] - 0s 139ms/step - loss: 0.2878 - acc: 0.9000 - val_loss: 0.0582 - val_acc: 1.0000\n",
      "Epoch 7/60\n",
      "1/1 [==============================] - 0s 182ms/step - loss: 0.4793 - acc: 0.8000 - val_loss: 0.0433 - val_acc: 1.0000\n",
      "Epoch 8/60\n",
      "1/1 [==============================] - 0s 56ms/step - loss: 0.3032 - acc: 0.8333 - val_loss: 0.0678 - val_acc: 1.0000\n",
      "Epoch 9/60\n",
      "1/1 [==============================] - 0s 157ms/step - loss: 0.2175 - acc: 0.9444 - val_loss: 0.0481 - val_acc: 1.0000\n",
      "Epoch 10/60\n",
      "1/1 [==============================] - 0s 65ms/step - loss: 0.2317 - acc: 0.9000 - val_loss: 0.0323 - val_acc: 1.0000\n",
      "Epoch 11/60\n",
      "1/1 [==============================] - 0s 133ms/step - loss: 0.2263 - acc: 0.9444 - val_loss: 0.0641 - val_acc: 1.0000\n",
      "Epoch 12/60\n",
      "1/1 [==============================] - 0s 123ms/step - loss: 0.4352 - acc: 0.8500 - val_loss: 0.0586 - val_acc: 1.0000\n",
      "Epoch 13/60\n",
      "1/1 [==============================] - 0s 156ms/step - loss: 0.4188 - acc: 0.8500 - val_loss: 0.0739 - val_acc: 1.0000\n",
      "Epoch 14/60\n",
      "1/1 [==============================] - 0s 61ms/step - loss: 0.5162 - acc: 0.7222 - val_loss: 0.0830 - val_acc: 0.9444\n",
      "Epoch 15/60\n",
      "1/1 [==============================] - 0s 180ms/step - loss: 0.5805 - acc: 0.8000 - val_loss: 0.0439 - val_acc: 1.0000\n",
      "Epoch 16/60\n",
      "1/1 [==============================] - 0s 92ms/step - loss: 0.6480 - acc: 0.7222 - val_loss: 0.0307 - val_acc: 1.0000\n",
      "Epoch 17/60\n",
      "1/1 [==============================] - 0s 178ms/step - loss: 0.2972 - acc: 0.8333 - val_loss: 0.0257 - val_acc: 1.0000\n",
      "Epoch 18/60\n",
      "1/1 [==============================] - 0s 77ms/step - loss: 0.1738 - acc: 0.9000 - val_loss: 0.0246 - val_acc: 1.0000\n",
      "Epoch 19/60\n",
      "1/1 [==============================] - 0s 300ms/step - loss: 0.1811 - acc: 0.9444 - val_loss: 0.0262 - val_acc: 1.0000\n",
      "Epoch 20/60\n",
      "1/1 [==============================] - 0s 84ms/step - loss: 0.2491 - acc: 0.9000 - val_loss: 0.0259 - val_acc: 1.0000\n",
      "Epoch 21/60\n",
      "1/1 [==============================] - 0s 141ms/step - loss: 0.2421 - acc: 0.8889 - val_loss: 0.0343 - val_acc: 1.0000\n",
      "Epoch 22/60\n",
      "1/1 [==============================] - 0s 90ms/step - loss: 0.0555 - acc: 1.0000 - val_loss: 0.1367 - val_acc: 0.9444\n",
      "Epoch 23/60\n",
      "1/1 [==============================] - 0s 215ms/step - loss: 0.3666 - acc: 0.8000 - val_loss: 0.0322 - val_acc: 1.0000\n",
      "Epoch 24/60\n",
      "1/1 [==============================] - 0s 77ms/step - loss: 0.1152 - acc: 0.9444 - val_loss: 0.0089 - val_acc: 1.0000\n",
      "Epoch 25/60\n",
      "1/1 [==============================] - 0s 191ms/step - loss: 0.2095 - acc: 0.9500 - val_loss: 0.0136 - val_acc: 1.0000\n",
      "Epoch 26/60\n",
      "1/1 [==============================] - 0s 114ms/step - loss: 0.1746 - acc: 0.8889 - val_loss: 0.0473 - val_acc: 1.0000\n",
      "Epoch 27/60\n",
      "1/1 [==============================] - 0s 200ms/step - loss: 0.3586 - acc: 0.8000 - val_loss: 0.0277 - val_acc: 1.0000\n",
      "Epoch 28/60\n",
      "1/1 [==============================] - 0s 190ms/step - loss: 0.4391 - acc: 0.7778 - val_loss: 0.0195 - val_acc: 1.0000\n",
      "Epoch 29/60\n",
      "1/1 [==============================] - 0s 163ms/step - loss: 0.3430 - acc: 0.7500 - val_loss: 0.0610 - val_acc: 0.9500\n",
      "Epoch 30/60\n",
      "1/1 [==============================] - 0s 68ms/step - loss: 0.2240 - acc: 0.8889 - val_loss: 0.0318 - val_acc: 1.0000\n",
      "Epoch 31/60\n",
      "1/1 [==============================] - 0s 221ms/step - loss: 0.1904 - acc: 0.9444 - val_loss: 0.0139 - val_acc: 1.0000\n",
      "Epoch 32/60\n",
      "1/1 [==============================] - 0s 145ms/step - loss: 0.2122 - acc: 0.9500 - val_loss: 0.0330 - val_acc: 1.0000\n",
      "Epoch 33/60\n",
      "1/1 [==============================] - 0s 158ms/step - loss: 0.1039 - acc: 0.9444 - val_loss: 0.0953 - val_acc: 0.9500\n",
      "Epoch 34/60\n",
      "1/1 [==============================] - 0s 92ms/step - loss: 0.5946 - acc: 0.8000 - val_loss: 0.0343 - val_acc: 1.0000\n",
      "Epoch 35/60\n",
      "1/1 [==============================] - 0s 204ms/step - loss: 0.2962 - acc: 0.9000 - val_loss: 0.0396 - val_acc: 1.0000\n",
      "Epoch 36/60\n",
      "1/1 [==============================] - 0s 106ms/step - loss: 0.0746 - acc: 1.0000 - val_loss: 0.0068 - val_acc: 1.0000\n",
      "Epoch 37/60\n",
      "1/1 [==============================] - 0s 140ms/step - loss: 0.1669 - acc: 0.9000 - val_loss: 0.0167 - val_acc: 1.0000\n",
      "Epoch 38/60\n",
      "1/1 [==============================] - 0s 55ms/step - loss: 0.4898 - acc: 0.8889 - val_loss: 0.0551 - val_acc: 1.0000\n",
      "Epoch 39/60\n",
      "1/1 [==============================] - 0s 148ms/step - loss: 0.2710 - acc: 0.8889 - val_loss: 0.0184 - val_acc: 1.0000\n",
      "Epoch 40/60\n",
      "1/1 [==============================] - 0s 83ms/step - loss: 0.6445 - acc: 0.7000 - val_loss: 0.0948 - val_acc: 0.9444\n",
      "Epoch 41/60\n",
      "1/1 [==============================] - 0s 150ms/step - loss: 0.2788 - acc: 0.8333 - val_loss: 0.0555 - val_acc: 1.0000\n",
      "Epoch 42/60\n",
      "1/1 [==============================] - 0s 125ms/step - loss: 0.4620 - acc: 0.8500 - val_loss: 0.0492 - val_acc: 1.0000\n",
      "Epoch 43/60\n",
      "1/1 [==============================] - 0s 254ms/step - loss: 0.0632 - acc: 1.0000 - val_loss: 0.0897 - val_acc: 0.9500\n",
      "Epoch 44/60\n",
      "1/1 [==============================] - 0s 96ms/step - loss: 0.0804 - acc: 1.0000 - val_loss: 0.0223 - val_acc: 1.0000\n",
      "Epoch 45/60\n",
      "1/1 [==============================] - 0s 188ms/step - loss: 0.2235 - acc: 0.9500 - val_loss: 0.0521 - val_acc: 1.0000\n",
      "Epoch 46/60\n",
      "1/1 [==============================] - 0s 76ms/step - loss: 0.0417 - acc: 1.0000 - val_loss: 0.0482 - val_acc: 1.0000\n",
      "Epoch 47/60\n",
      "1/1 [==============================] - 0s 198ms/step - loss: 0.2566 - acc: 0.8889 - val_loss: 0.0225 - val_acc: 1.0000\n",
      "Epoch 48/60\n",
      "1/1 [==============================] - 0s 94ms/step - loss: 0.0476 - acc: 1.0000 - val_loss: 0.0259 - val_acc: 1.0000\n",
      "Epoch 49/60\n",
      "1/1 [==============================] - 0s 276ms/step - loss: 0.1207 - acc: 1.0000 - val_loss: 0.0250 - val_acc: 1.0000\n",
      "Epoch 50/60\n",
      "1/1 [==============================] - 0s 61ms/step - loss: 0.1809 - acc: 1.0000 - val_loss: 0.0404 - val_acc: 1.0000\n",
      "Epoch 51/60\n",
      "1/1 [==============================] - 0s 213ms/step - loss: 0.1929 - acc: 0.9500 - val_loss: 0.0103 - val_acc: 1.0000\n",
      "Epoch 52/60\n",
      "1/1 [==============================] - 0s 63ms/step - loss: 0.3151 - acc: 0.8333 - val_loss: 0.0079 - val_acc: 1.0000\n",
      "Epoch 53/60\n",
      "1/1 [==============================] - 0s 167ms/step - loss: 0.1411 - acc: 0.9444 - val_loss: 0.0127 - val_acc: 1.0000\n",
      "Epoch 54/60\n",
      "1/1 [==============================] - 0s 96ms/step - loss: 0.3168 - acc: 0.9000 - val_loss: 0.0244 - val_acc: 1.0000\n",
      "Epoch 55/60\n",
      "1/1 [==============================] - 0s 107ms/step - loss: 0.1567 - acc: 0.9000 - val_loss: 0.0125 - val_acc: 1.0000\n",
      "Epoch 56/60\n",
      "1/1 [==============================] - 0s 139ms/step - loss: 0.1088 - acc: 0.9444 - val_loss: 0.0459 - val_acc: 1.0000\n",
      "Epoch 57/60\n",
      "1/1 [==============================] - 0s 109ms/step - loss: 0.1698 - acc: 0.9444 - val_loss: 0.0162 - val_acc: 1.0000\n",
      "Epoch 58/60\n",
      "1/1 [==============================] - 0s 65ms/step - loss: 0.0467 - acc: 1.0000 - val_loss: 0.0106 - val_acc: 1.0000\n",
      "Epoch 59/60\n",
      "1/1 [==============================] - 0s 173ms/step - loss: 0.2112 - acc: 0.9500 - val_loss: 0.0115 - val_acc: 1.0000\n",
      "Epoch 60/60\n",
      "1/1 [==============================] - 0s 85ms/step - loss: 0.3938 - acc: 0.9444 - val_loss: 0.0076 - val_acc: 1.0000\n"
     ]
    }
   ],
   "source": [
    "\n",
    "history_conv = number_loaded_model.fit_generator(data_training_generator,steps_per_epoch=(len(datax_train))//20, epochs=60, validation_data=data_training_generator, validation_steps=(len(datax_train))//20)"
   ]
  },
  {
   "cell_type": "code",
   "execution_count": 48,
   "metadata": {},
   "outputs": [
    {
     "data": {
      "image/png": "[encoded data removed]",
      "text/plain": [
       "<Figure size 432x288 with 1 Axes>"
      ]
     },
     "metadata": {
      "needs_background": "light"
     },
     "output_type": "display_data"
    }
   ],
   "source": [
    "# test the model\n",
    "def testModel(img,truth):\n",
    "  grayImg = cv2.cvtColor(img,cv2.COLOR_BGR2GRAY)\n",
    "  img_aug = np.repeat(grayImg[..., np.newaxis], 3, -1)\n",
    "  img_aug = cv2.resize(img_aug,(inputWidth,inputHeight))\n",
    "  img_aug = np.expand_dims(img_aug, axis=0)\n",
    "  y_predict = number_loaded_model.predict(img_aug)[0]\n",
    "#   print(y_predict)\n",
    "  plt.imshow(img)\n",
    "  predictVal = max(y_predict)\n",
    "#   print(predictVal)\n",
    "  predictedVal_index = np.where(y_predict == predictVal)[0][0]\n",
    "  predictedVal = numberLabels[predictedVal_index]\n",
    "#   groundTruth_index = np.where(datay_train[index] == 1)[0][0]\n",
    "#   groundTruth = labels[groundTruth_index]\n",
    "#   print(\"predicted value:\",format(predictedVal))\n",
    "#   print(\"ground truth:\",format(truth))\n",
    "  if (predictedVal != truth):\n",
    "   print(\"predicted value:\",format(predictedVal))\n",
    "   print(\"ground truth:\",format(truth))\n",
    "\n",
    "\n",
    "dataPath = \"./realData/parkingNumbers\"\n",
    "\n",
    "for file in os.listdir(dataPath):\n",
    "    if(file.endswith('.png')):\n",
    "        truth = file[0]\n",
    "        image = cv2.imread(dataPath + '/' + file) #converts to grey scale\n",
    "        width, height, dim = image.shape\n",
    "#         image = cv2.resize(image,(95,170))\n",
    "        plt.imshow(image)\n",
    "        testModel(image,truth)"
   ]
  },
  {
   "cell_type": "code",
   "execution_count": 50,
   "metadata": {},
   "outputs": [],
   "source": [
    "number_loaded_model.save(\"numberswithparking.h5\")"
   ]
  }
 ],
 "metadata": {
  "kernelspec": {
   "display_name": "Python 2",
   "language": "python",
   "name": "python2"
  },
  "language_info": {
   "codemirror_mode": {
    "name": "ipython",
    "version": 2
   },
   "file_extension": ".py",
   "mimetype": "text/x-python",
   "name": "python",
   "nbconvert_exporter": "python",
   "pygments_lexer": "ipython2",
   "version": "2.7.15+"
  }
 },
 "nbformat": 4,
 "nbformat_minor": 2
}
