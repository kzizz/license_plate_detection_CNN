{
 "cells": [
  {
   "cell_type": "code",
   "execution_count": 1,
   "metadata": {},
   "outputs": [],
   "source": [
    "import math\n",
    "import numpy as np\n",
    "import re\n",
    "import string\n",
    "import cv2\n",
    "import os\n",
    "import errno\n",
    "import random"
   ]
  },
  {
   "cell_type": "code",
   "execution_count": 2,
   "metadata": {},
   "outputs": [],
   "source": [
    "from collections import Counter\n",
    "from matplotlib import pyplot as plt\n",
    "from PIL import Image\n",
    "inputWidth = 18\n",
    "inputHeight = 22\n"
   ]
  },
  {
   "cell_type": "code",
   "execution_count": 3,
   "metadata": {},
   "outputs": [],
   "source": [
    "numberLabels = ['0','1','2','3','4','5','6','7','8','9']\n",
    "numberDictionary = {\"image\" : [] , \"vector\": [], \"label\": []}\n",
    "letterLabels = []\n",
    "letterLabels.extend(list(string.ascii_uppercase))\n",
    "letterDictionary = {\"image\" : [] , \"vector\": [], \"label\": []}"
   ]
  },
  {
   "cell_type": "code",
   "execution_count": null,
   "metadata": {},
   "outputs": [],
   "source": [
    "PATH = \"./pictures\"\n",
    "croppedPath = \"./cropped\"\n",
    "letterPath = croppedPath + \"/letter\"\n",
    "numberPath = croppedPath + \"/number\"\n",
    "# labels = !ls \"{PATH}\"\n",
    "x0 = 50\n",
    "y0 = 80\n",
    "spaceX = 5\n",
    "spaceFlagX = 105\n",
    "dy = 170\n",
    "dx = 95\n",
    "x1 = x0 + spaceX + dx\n",
    "x2 = x1 + spaceFlagX + dx\n",
    "x3 = x2 + spaceX + dx\n",
    "x4 = x3 + spaceX + dx\n",
    "n = 0\n",
    "letterFileNames = []\n",
    "numberFileNames  = []\n",
    "for file in os.listdir(PATH):\n",
    "    if(file.endswith('.png')):\n",
    "        cropPath = []\n",
    "        for i in range(4):\n",
    "            cropPath.append(file[6+i])\n",
    "        image = cv2.imread(PATH + '/' + file) #converts to grey scale\n",
    "        grayImage = cv2.cvtColor(image,cv2.COLOR_BGR2GRAY)\n",
    "        crop_img1 = 255 - grayImage[y0:y0+dy, x0:x0+dx]\n",
    "        #crop_img1 = np.expand_dims(crop_img1, axis=2)\n",
    "        crop_img2 = 255 - grayImage[y0:y0+dy, x1:x1+dx]\n",
    "        #crop_img2 = np.expand_dims(crop_img2, axis=2)\n",
    "        crop_img3 = 255 - grayImage[y0:y0+dy, x2:x2+dx]\n",
    "        #crop_img3 = np.expand_dims(crop_img3, axis=2)\n",
    "        crop_img4 = 255 - grayImage[y0:y0+dy, x3:x3+dx]\n",
    "        #crop_img4 = np.expand_dims(crop_img4, axis=2)\n",
    "        fileName1 = cropPath[0] + str(n) + '.png'\n",
    "        fileName2 = cropPath[1] + str(n) + '.png'\n",
    "        fileName3 = cropPath[2] + str(n) + '.png'\n",
    "        fileName4 = cropPath[3] + str(n) + '.png'\n",
    "        letterFileNames.extend([fileName1, fileName2])\n",
    "        numberFileNames.extend([fileName3, fileName4])\n",
    "        cv2.imwrite(letterPath +'/'+ fileName1,crop_img1)\n",
    "        cv2.imwrite(letterPath +'/' + fileName2,crop_img2)\n",
    "        cv2.imwrite(numberPath +'/' + fileName3,crop_img3)\n",
    "        cv2.imwrite(numberPath +'/' + fileName4,crop_img4)\n",
    "        \n",
    "        n = n+1"
   ]
  },
  {
   "cell_type": "code",
   "execution_count": null,
   "metadata": {},
   "outputs": [],
   "source": [
    "# shuffle data\n",
    "random.shuffle(letterFileNames)\n",
    "random.shuffle(numberFileNames)"
   ]
  },
  {
   "cell_type": "code",
   "execution_count": null,
   "metadata": {},
   "outputs": [],
   "source": [
    "# load numbers \n",
    "for fileName in numberFileNames:\n",
    "    pathToImage = numberPath + '/' + fileName\n",
    "    label = fileName[0]\n",
    "    index = numberLabels.index(label)\n",
    "    #creating the vector\n",
    "    vec = [0] * 36\n",
    "    vec[index] = 1\n",
    "    img = cv2.imread(pathToImage)\n",
    "    img = cv2.resize(img,(inputWidth,inputHeight))\n",
    "    numberDictionary[\"image\"].append(img/255.0) #normalizing to values between zero and one\n",
    "    numberDictionary[\"vector\"].append(vec)\n",
    "    numberDictionary[\"label\"].append(label)"
   ]
  },
  {
   "cell_type": "code",
   "execution_count": null,
   "metadata": {},
   "outputs": [],
   "source": [
    "#load letters\n",
    "for fileName in letterFileNames:\n",
    "    pathToImage = letterPath + '/' + fileName\n",
    "    label = fileName[0]\n",
    "    index = letterLabels.index(label)\n",
    "    #creating the vector\n",
    "    vec = [0] * 36\n",
    "    vec[index] = 1\n",
    "    img = cv2.imread(pathToImage)\n",
    "    img = cv2.resize(img,(inputWidth,inputHeight))\n",
    "    letterDictionary[\"image\"].append(img/255.0) #normalizing to values between zero and one\n",
    "    letterDictionary[\"vector\"].append(vec)\n",
    "    letterDictionary[\"label\"].append(label)"
   ]
  },
  {
   "cell_type": "code",
   "execution_count": 6,
   "metadata": {},
   "outputs": [],
   "source": [
    "# # train the system\n",
    "\n",
    "from keras import layers\n",
    "from keras import models\n",
    "from keras import optimizers\n",
    "\n",
    "from keras.utils import plot_model\n",
    "from keras import backend\n",
    "from keras.preprocessing.image import ImageDataGenerator\n",
    "\n",
    "def blur(image):\n",
    "    kernelSize = random.randrange(1, 5+1, 2)\n",
    "    return cv2.GaussianBlur(image,(kernelSize,kernelSize),cv2.BORDER_DEFAULT)\n",
    "\n",
    "datagen = ImageDataGenerator(\n",
    "                              brightness_range=[0.2,1.0],\n",
    "                               rotation_range = 1,\n",
    "                               zoom_range = [0.8,1],\n",
    "                              validation_split = 0.2,\n",
    "                             width_shift_range = 0.1,\n",
    "                              height_shift_range = 0.1,\n",
    "                             shear_range=0.6,\n",
    "                            preprocessing_function = blur\n",
    "                            )\n",
    "def reset_weights(model):\n",
    "    session = backend.get_session()\n",
    "    for layer in model.layers: \n",
    "        if hasattr(layer, 'kernel_initializer'):\n",
    "            layer.kernel.initializer.run(session=session)"
   ]
  },
  {
   "cell_type": "code",
   "execution_count": null,
   "metadata": {},
   "outputs": [],
   "source": [
    "number_x_train = np.array(numberDictionary[\"image\"])\n",
    "number_y_train = np.array(numberDictionary[\"vector\"])                   \n",
    "\n",
    "number_training_generator = datagen.flow(number_x_train,number_y_train,batch_size=64,subset='training')\n",
    "number_validation_generator = datagen.flow(number_x_train, number_y_train, batch_size=64,subset='validation')\n",
    "\n",
    "plt.figure(figsize=(10,5))\n",
    "for i in range(6):\n",
    "     plt.subplot(2,3,i+1)\n",
    "     for x,y in number_training_generator:\n",
    "        plt.imshow((x[0]/255),cmap='gray')\n",
    "#       plt.title('y={}'.format(y[0]))\n",
    "        plt.axis('off')\n",
    "        break\n",
    "plt.tight_layout()\n",
    "plt.show()"
   ]
  },
  {
   "cell_type": "code",
   "execution_count": null,
   "metadata": {},
   "outputs": [],
   "source": [
    "# set up CNN model for numbers\n",
    "number_conv_model = models.Sequential()\n",
    "number_conv_model.add(layers.Conv2D(32, (3, 3), activation='relu',\n",
    "                             input_shape=(inputHeight,inputWidth, 3)))\n",
    "number_conv_model.add(layers.MaxPooling2D((2, 2)))\n",
    "number_conv_model.add(layers.Conv2D(64, (3, 3), activation='relu'))\n",
    "number_conv_model.add(layers.MaxPooling2D((2, 2), padding = 'same'))\n",
    "number_conv_model.add(layers.Conv2D(128, (3, 3), activation='relu'))\n",
    "number_conv_model.add(layers.MaxPooling2D((2, 2), padding = 'same'))\n",
    "# conv_model.add(layers.Conv2D(64, (3, 3), activation='relu'))\n",
    "# conv_model.add(layers.MaxPooling2D((2, 2), padding = 'same'))\n",
    "number_conv_model.add(layers.Flatten())\n",
    "number_conv_model.add(layers.Dropout(0.5))\n",
    "number_conv_model.add(layers.Dense(512, activation='relu'))\n",
    "number_conv_model.add(layers.Dense(36, activation='softmax'))     \n",
    "\n",
    "number_conv_model.summary()"
   ]
  },
  {
   "cell_type": "code",
   "execution_count": null,
   "metadata": {},
   "outputs": [],
   "source": [
    "LEARNING_RATE = 1e-4\n",
    "number_conv_model.compile(loss='categorical_crossentropy',\n",
    "                   optimizer=optimizers.RMSprop(lr=LEARNING_RATE),\n",
    "                   metrics=['acc'])\n"
   ]
  },
  {
   "cell_type": "code",
   "execution_count": null,
   "metadata": {
    "scrolled": true
   },
   "outputs": [],
   "source": [
    "reset_weights(number_conv_model)\n",
    "history_conv = number_conv_model.fit_generator(number_training_generator,steps_per_epoch=(len(number_x_train)*0.8)//64, epochs=60, validation_data=number_validation_generator, validation_steps=(len(number_x_train)*0.2)//64)"
   ]
  },
  {
   "cell_type": "code",
   "execution_count": null,
   "metadata": {},
   "outputs": [],
   "source": [
    "plt.plot(history_conv.history['loss'])\n",
    "plt.plot(history_conv.history['val_loss'])\n",
    "plt.title('model loss')\n",
    "plt.ylabel('loss')\n",
    "plt.xlabel('epoch')\n",
    "plt.legend(['train loss', 'val loss'], loc='upper left')\n",
    "plt.show()\n"
   ]
  },
  {
   "cell_type": "code",
   "execution_count": null,
   "metadata": {},
   "outputs": [],
   "source": [
    "plt.plot(history_conv.history['acc'])\n",
    "plt.plot(history_conv.history['val_acc'])\n",
    "plt.title('model accuracy')\n",
    "plt.ylabel('accuracy (%)')\n",
    "plt.xlabel('epoch')\n",
    "plt.legend(['train accuracy', 'val accuracy'], loc='upper left')\n",
    "plt.show()"
   ]
  },
  {
   "cell_type": "code",
   "execution_count": null,
   "metadata": {},
   "outputs": [],
   "source": [
    "#save the trained model\n",
    "number_conv_model.save(\"numberModel.h5\")\n",
    "print(\"Saved model to disk\")\n"
   ]
  },
  {
   "cell_type": "code",
   "execution_count": 18,
   "metadata": {},
   "outputs": [
    {
     "name": "stdout",
     "output_type": "stream",
     "text": [
      "Model: \"sequential_2\"\n",
      "_________________________________________________________________\n",
      "Layer (type)                 Output Shape              Param #   \n",
      "=================================================================\n",
      "conv2d_4 (Conv2D)            (None, 20, 16, 32)        896       \n",
      "_________________________________________________________________\n",
      "max_pooling2d_4 (MaxPooling2 (None, 10, 8, 32)         0         \n",
      "_________________________________________________________________\n",
      "conv2d_5 (Conv2D)            (None, 8, 6, 64)          18496     \n",
      "_________________________________________________________________\n",
      "max_pooling2d_5 (MaxPooling2 (None, 4, 3, 64)          0         \n",
      "_________________________________________________________________\n",
      "conv2d_6 (Conv2D)            (None, 2, 1, 128)         73856     \n",
      "_________________________________________________________________\n",
      "max_pooling2d_6 (MaxPooling2 (None, 1, 1, 128)         0         \n",
      "_________________________________________________________________\n",
      "flatten_2 (Flatten)          (None, 128)               0         \n",
      "_________________________________________________________________\n",
      "dropout_2 (Dropout)          (None, 128)               0         \n",
      "_________________________________________________________________\n",
      "dense_3 (Dense)              (None, 512)               66048     \n",
      "_________________________________________________________________\n",
      "dense_4 (Dense)              (None, 36)                18468     \n",
      "=================================================================\n",
      "Total params: 177,764\n",
      "Trainable params: 177,764\n",
      "Non-trainable params: 0\n",
      "_________________________________________________________________\n"
     ]
    }
   ],
   "source": [
    "#reload model for further training\n",
    "from numpy import loadtxt\n",
    "from keras.models import load_model\n",
    " \n",
    "# load model\n",
    "number_loaded_model = load_model('numberModel.h5')\n",
    "# summarize model.\n",
    "number_loaded_model.summary()\n",
    "# load dataset"
   ]
  },
  {
   "cell_type": "code",
   "execution_count": 19,
   "metadata": {},
   "outputs": [],
   "source": [
    "def blurData(grayImage):\n",
    "    kernelSize = random.randrange(1, 3+1, 2)\n",
    "    return cv2.GaussianBlur(grayImage,(kernelSize,kernelSize),cv2.BORDER_DEFAULT)\n",
    "\n",
    "realDataGen = ImageDataGenerator(\n",
    "                              brightness_range=[0.8,1.0],\n",
    "                              rotation_range = 10,\n",
    "                              zoom_range = [0.8,1],\n",
    "#                               validation_split = 0.2,\n",
    "#                               width_shift_range = 0.2,\n",
    "#                              height_shift_range = 0.2,\n",
    "                             shear_range=0.2,\n",
    "#                              validation_split = 0.2,\n",
    "                             preprocessing_function = blurData\n",
    "    \n",
    "                            )\n"
   ]
  },
  {
   "cell_type": "code",
   "execution_count": 15,
   "metadata": {},
   "outputs": [],
   "source": [
    "# second round of training with real data from the world\n",
    "numberDataDictionary = {\"image\" : [] , \"vector\": [], \"label\": []}\n",
    "numberDataPath = \"./realData/number\""
   ]
  },
  {
   "cell_type": "code",
   "execution_count": 16,
   "metadata": {},
   "outputs": [
    {
     "data": {
      "image/png": "[encoded data removed]",
      "text/plain": [
       "<Figure size 432x288 with 1 Axes>"
      ]
     },
     "metadata": {
      "needs_background": "light"
     },
     "output_type": "display_data"
    },
    {
     "data": {
      "image/png": "[encoded data removed]",
      "text/plain": [
       "<Figure size 720x360 with 6 Axes>"
      ]
     },
     "metadata": {
      "needs_background": "light"
     },
     "output_type": "display_data"
    }
   ],
   "source": [
    "numberDataFiles = []\n",
    "for file in os.listdir(numberDataPath):\n",
    "    if(file.endswith('png')):\n",
    "        numberDataFiles.append(file)\n",
    "        \n",
    "random.shuffle(numberDataFiles)\n",
    "for fileName in numberDataFiles:\n",
    "    image = cv2.imread(numberDataPath + '/' + fileName)\n",
    "    image = cv2.resize(image,(inputWidth,inputHeight))\n",
    "#         print(image.shape)\n",
    "    grayImage = cv2.cvtColor(image,cv2.COLOR_BGR2GRAY)\n",
    "    grayImage3 = np.repeat(grayImage[..., np.newaxis], 3, -1)\n",
    "\n",
    "#         imageBlur = cv2.GaussianBlur(image,(11,11),cv2.BORDER_DEFAULT)\n",
    "    dataLabel = file[0]\n",
    "    #creating the vector\n",
    "    vec = [0] * 36\n",
    "    index = numberLabels.index(dataLabel)\n",
    "    vec[index] = 1\n",
    "#         print(grayImage)\n",
    "    numberDataDictionary[\"image\"].append(grayImage3/255.0)#?\n",
    "    numberDataDictionary[\"vector\"].append(vec)\n",
    "    numberDataDictionary[\"label\"].append(dataLabel)\n",
    "    plt.imshow(grayImage3)\n",
    "#         print(grayImage3)\n",
    "#data augmentation\n",
    "number_datax_train = np.array(numberDataDictionary[\"image\"])\n",
    "number_datay_train = np.array(numberDataDictionary[\"vector\"])\n",
    "\n",
    "data_training_generator = realDataGen.flow(number_datax_train,number_datay_train,batch_size=64)\n",
    "# validation_generator = realDataGen.flow(datax_train, datay_train, batch_size=64,subset='validation')\n",
    "\n",
    "plt.figure(figsize=(10,5))\n",
    "for i in range(6):\n",
    "    plt.subplot(2,3,i+1)\n",
    "    for x,y in data_training_generator:\n",
    "        plt.imshow((x[0]/255),cmap='gray')\n",
    "#         plt.title('y={}'.format(y[0]))\n",
    "        plt.axis('off')\n",
    "        break\n",
    "plt.tight_layout()\n",
    "plt.show()"
   ]
  },
  {
   "cell_type": "code",
   "execution_count": 21,
   "metadata": {},
   "outputs": [
    {
     "name": "stdout",
     "output_type": "stream",
     "text": [
      "Epoch 1/60\n"
     ]
    },
    {
     "ename": "AttributeError",
     "evalue": "'ProgbarLogger' object has no attribute 'log_values'",
     "output_type": "error",
     "traceback": [
      "\u001b[0;31m---------------------------------------------------------------------------\u001b[0m",
      "\u001b[0;31mAttributeError\u001b[0m                            Traceback (most recent call last)",
      "\u001b[0;32m<ipython-input-21-f11ed9572310>\u001b[0m in \u001b[0;36m<module>\u001b[0;34m()\u001b[0m\n\u001b[1;32m      1\u001b[0m \u001b[0;34m\u001b[0m\u001b[0m\n\u001b[0;32m----> 2\u001b[0;31m \u001b[0mloaded_history\u001b[0m \u001b[0;34m=\u001b[0m \u001b[0mnumber_loaded_model\u001b[0m\u001b[0;34m.\u001b[0m\u001b[0mfit_generator\u001b[0m\u001b[0;34m(\u001b[0m\u001b[0mdata_training_generator\u001b[0m\u001b[0;34m,\u001b[0m\u001b[0msteps_per_epoch\u001b[0m\u001b[0;34m=\u001b[0m\u001b[0;34m(\u001b[0m\u001b[0mlen\u001b[0m\u001b[0;34m(\u001b[0m\u001b[0mnumber_datax_train\u001b[0m\u001b[0;34m)\u001b[0m\u001b[0;34m*\u001b[0m\u001b[0;36m0.8\u001b[0m\u001b[0;34m)\u001b[0m\u001b[0;34m//\u001b[0m\u001b[0;36m64\u001b[0m\u001b[0;34m,\u001b[0m \u001b[0mepochs\u001b[0m\u001b[0;34m=\u001b[0m\u001b[0;36m60\u001b[0m\u001b[0;34m,\u001b[0m \u001b[0mvalidation_data\u001b[0m\u001b[0;34m=\u001b[0m\u001b[0mdata_training_generator\u001b[0m\u001b[0;34m,\u001b[0m \u001b[0mvalidation_steps\u001b[0m\u001b[0;34m=\u001b[0m\u001b[0;34m(\u001b[0m\u001b[0mlen\u001b[0m\u001b[0;34m(\u001b[0m\u001b[0mnumber_datax_train\u001b[0m\u001b[0;34m)\u001b[0m\u001b[0;34m*\u001b[0m\u001b[0;36m0.2\u001b[0m\u001b[0;34m)\u001b[0m\u001b[0;34m//\u001b[0m\u001b[0;36m64\u001b[0m\u001b[0;34m)\u001b[0m\u001b[0;34m\u001b[0m\u001b[0;34m\u001b[0m\u001b[0m\n\u001b[0m",
      "\u001b[0;32m/home/fizzer/.local/lib/python2.7/site-packages/keras/legacy/interfaces.pyc\u001b[0m in \u001b[0;36mwrapper\u001b[0;34m(*args, **kwargs)\u001b[0m\n\u001b[1;32m     89\u001b[0m                 warnings.warn('Update your `' + object_name + '` call to the ' +\n\u001b[1;32m     90\u001b[0m                               'Keras 2 API: ' + signature, stacklevel=2)\n\u001b[0;32m---> 91\u001b[0;31m             \u001b[0;32mreturn\u001b[0m \u001b[0mfunc\u001b[0m\u001b[0;34m(\u001b[0m\u001b[0;34m*\u001b[0m\u001b[0margs\u001b[0m\u001b[0;34m,\u001b[0m \u001b[0;34m**\u001b[0m\u001b[0mkwargs\u001b[0m\u001b[0;34m)\u001b[0m\u001b[0;34m\u001b[0m\u001b[0;34m\u001b[0m\u001b[0m\n\u001b[0m\u001b[1;32m     92\u001b[0m         \u001b[0mwrapper\u001b[0m\u001b[0;34m.\u001b[0m\u001b[0m_original_function\u001b[0m \u001b[0;34m=\u001b[0m \u001b[0mfunc\u001b[0m\u001b[0;34m\u001b[0m\u001b[0;34m\u001b[0m\u001b[0m\n\u001b[1;32m     93\u001b[0m         \u001b[0;32mreturn\u001b[0m \u001b[0mwrapper\u001b[0m\u001b[0;34m\u001b[0m\u001b[0;34m\u001b[0m\u001b[0m\n",
      "\u001b[0;32m/home/fizzer/.local/lib/python2.7/site-packages/keras/engine/training.pyc\u001b[0m in \u001b[0;36mfit_generator\u001b[0;34m(self, generator, steps_per_epoch, epochs, verbose, callbacks, validation_data, validation_steps, validation_freq, class_weight, max_queue_size, workers, use_multiprocessing, shuffle, initial_epoch)\u001b[0m\n\u001b[1;32m   1730\u001b[0m             \u001b[0muse_multiprocessing\u001b[0m\u001b[0;34m=\u001b[0m\u001b[0muse_multiprocessing\u001b[0m\u001b[0;34m,\u001b[0m\u001b[0;34m\u001b[0m\u001b[0;34m\u001b[0m\u001b[0m\n\u001b[1;32m   1731\u001b[0m             \u001b[0mshuffle\u001b[0m\u001b[0;34m=\u001b[0m\u001b[0mshuffle\u001b[0m\u001b[0;34m,\u001b[0m\u001b[0;34m\u001b[0m\u001b[0;34m\u001b[0m\u001b[0m\n\u001b[0;32m-> 1732\u001b[0;31m             initial_epoch=initial_epoch)\n\u001b[0m\u001b[1;32m   1733\u001b[0m \u001b[0;34m\u001b[0m\u001b[0m\n\u001b[1;32m   1734\u001b[0m     \u001b[0;34m@\u001b[0m\u001b[0minterfaces\u001b[0m\u001b[0;34m.\u001b[0m\u001b[0mlegacy_generator_methods_support\u001b[0m\u001b[0;34m\u001b[0m\u001b[0;34m\u001b[0m\u001b[0m\n",
      "\u001b[0;32m/home/fizzer/.local/lib/python2.7/site-packages/keras/engine/training_generator.pyc\u001b[0m in \u001b[0;36mfit_generator\u001b[0;34m(model, generator, steps_per_epoch, epochs, verbose, callbacks, validation_data, validation_steps, validation_freq, class_weight, max_queue_size, workers, use_multiprocessing, shuffle, initial_epoch)\u001b[0m\n\u001b[1;32m    258\u001b[0m                     \u001b[0;32mbreak\u001b[0m\u001b[0;34m\u001b[0m\u001b[0;34m\u001b[0m\u001b[0m\n\u001b[1;32m    259\u001b[0m \u001b[0;34m\u001b[0m\u001b[0m\n\u001b[0;32m--> 260\u001b[0;31m             \u001b[0mcallbacks\u001b[0m\u001b[0;34m.\u001b[0m\u001b[0mon_epoch_end\u001b[0m\u001b[0;34m(\u001b[0m\u001b[0mepoch\u001b[0m\u001b[0;34m,\u001b[0m \u001b[0mepoch_logs\u001b[0m\u001b[0;34m)\u001b[0m\u001b[0;34m\u001b[0m\u001b[0;34m\u001b[0m\u001b[0m\n\u001b[0m\u001b[1;32m    261\u001b[0m             \u001b[0mepoch\u001b[0m \u001b[0;34m+=\u001b[0m \u001b[0;36m1\u001b[0m\u001b[0;34m\u001b[0m\u001b[0;34m\u001b[0m\u001b[0m\n\u001b[1;32m    262\u001b[0m             \u001b[0;32mif\u001b[0m \u001b[0mcallbacks\u001b[0m\u001b[0;34m.\u001b[0m\u001b[0mmodel\u001b[0m\u001b[0;34m.\u001b[0m\u001b[0mstop_training\u001b[0m\u001b[0;34m:\u001b[0m\u001b[0;34m\u001b[0m\u001b[0;34m\u001b[0m\u001b[0m\n",
      "\u001b[0;32m/home/fizzer/.local/lib/python2.7/site-packages/keras/callbacks/callbacks.pyc\u001b[0m in \u001b[0;36mon_epoch_end\u001b[0;34m(self, epoch, logs)\u001b[0m\n\u001b[1;32m    150\u001b[0m         \u001b[0mlogs\u001b[0m \u001b[0;34m=\u001b[0m \u001b[0mlogs\u001b[0m \u001b[0;32mor\u001b[0m \u001b[0;34m{\u001b[0m\u001b[0;34m}\u001b[0m\u001b[0;34m\u001b[0m\u001b[0;34m\u001b[0m\u001b[0m\n\u001b[1;32m    151\u001b[0m         \u001b[0;32mfor\u001b[0m \u001b[0mcallback\u001b[0m \u001b[0;32min\u001b[0m \u001b[0mself\u001b[0m\u001b[0;34m.\u001b[0m\u001b[0mcallbacks\u001b[0m\u001b[0;34m:\u001b[0m\u001b[0;34m\u001b[0m\u001b[0;34m\u001b[0m\u001b[0m\n\u001b[0;32m--> 152\u001b[0;31m             \u001b[0mcallback\u001b[0m\u001b[0;34m.\u001b[0m\u001b[0mon_epoch_end\u001b[0m\u001b[0;34m(\u001b[0m\u001b[0mepoch\u001b[0m\u001b[0;34m,\u001b[0m \u001b[0mlogs\u001b[0m\u001b[0;34m)\u001b[0m\u001b[0;34m\u001b[0m\u001b[0;34m\u001b[0m\u001b[0m\n\u001b[0m\u001b[1;32m    153\u001b[0m \u001b[0;34m\u001b[0m\u001b[0m\n\u001b[1;32m    154\u001b[0m     \u001b[0;32mdef\u001b[0m \u001b[0mon_train_batch_begin\u001b[0m\u001b[0;34m(\u001b[0m\u001b[0mself\u001b[0m\u001b[0;34m,\u001b[0m \u001b[0mbatch\u001b[0m\u001b[0;34m,\u001b[0m \u001b[0mlogs\u001b[0m\u001b[0;34m=\u001b[0m\u001b[0mNone\u001b[0m\u001b[0;34m)\u001b[0m\u001b[0;34m:\u001b[0m\u001b[0;34m\u001b[0m\u001b[0;34m\u001b[0m\u001b[0m\n",
      "\u001b[0;32m/home/fizzer/.local/lib/python2.7/site-packages/keras/callbacks/callbacks.pyc\u001b[0m in \u001b[0;36mon_epoch_end\u001b[0;34m(self, epoch, logs)\u001b[0m\n\u001b[1;32m    609\u001b[0m                 \u001b[0mself\u001b[0m\u001b[0;34m.\u001b[0m\u001b[0mlog_values\u001b[0m\u001b[0;34m.\u001b[0m\u001b[0mappend\u001b[0m\u001b[0;34m(\u001b[0m\u001b[0;34m(\u001b[0m\u001b[0mk\u001b[0m\u001b[0;34m,\u001b[0m \u001b[0mlogs\u001b[0m\u001b[0;34m[\u001b[0m\u001b[0mk\u001b[0m\u001b[0;34m]\u001b[0m\u001b[0;34m)\u001b[0m\u001b[0;34m)\u001b[0m\u001b[0;34m\u001b[0m\u001b[0;34m\u001b[0m\u001b[0m\n\u001b[1;32m    610\u001b[0m         \u001b[0;32mif\u001b[0m \u001b[0mself\u001b[0m\u001b[0;34m.\u001b[0m\u001b[0mverbose\u001b[0m\u001b[0;34m:\u001b[0m\u001b[0;34m\u001b[0m\u001b[0;34m\u001b[0m\u001b[0m\n\u001b[0;32m--> 611\u001b[0;31m             \u001b[0mself\u001b[0m\u001b[0;34m.\u001b[0m\u001b[0mprogbar\u001b[0m\u001b[0;34m.\u001b[0m\u001b[0mupdate\u001b[0m\u001b[0;34m(\u001b[0m\u001b[0mself\u001b[0m\u001b[0;34m.\u001b[0m\u001b[0mseen\u001b[0m\u001b[0;34m,\u001b[0m \u001b[0mself\u001b[0m\u001b[0;34m.\u001b[0m\u001b[0mlog_values\u001b[0m\u001b[0;34m)\u001b[0m\u001b[0;34m\u001b[0m\u001b[0;34m\u001b[0m\u001b[0m\n\u001b[0m\u001b[1;32m    612\u001b[0m \u001b[0;34m\u001b[0m\u001b[0m\n\u001b[1;32m    613\u001b[0m \u001b[0;34m\u001b[0m\u001b[0m\n",
      "\u001b[0;31mAttributeError\u001b[0m: 'ProgbarLogger' object has no attribute 'log_values'"
     ]
    }
   ],
   "source": [
    "\n",
    "loaded_history = number_loaded_model.fit_generator(data_training_generator,steps_per_epoch=(len(number_datax_train)*0.8)//64, epochs=60, validation_data=data_training_generator, validation_steps=(len(number_datax_train)*0.2)//64)"
   ]
  },
  {
   "cell_type": "code",
   "execution_count": null,
   "metadata": {},
   "outputs": [],
   "source": [
    "number_loaded_model.save(\"numberModel2.h5\")\n",
    "print(\"Saved model to disk\")\n"
   ]
  },
  {
   "cell_type": "code",
   "execution_count": null,
   "metadata": {},
   "outputs": [],
   "source": [
    "def testModel(img,truth):\n",
    "  grayImg = cv2.cvtColor(img,cv2.COLOR_BGR2GRAY)\n",
    "  img_aug = np.repeat(grayImg[..., np.newaxis], 3, -1)\n",
    "  img_aug = cv2.resize(img_aug,(inputWidth,inputHeight))\n",
    "  img_aug = np.expand_dims(img_aug, axis=0)\n",
    "  y_predict = number_loaded_model.predict(img_aug)[0]\n",
    "#   print(y_predict)\n",
    "  plt.imshow(img)\n",
    "  predictVal = max(y_predict)\n",
    "#   print(predictVal)\n",
    "  predictedVal_index = np.where(y_predict == predictVal)[0][0]\n",
    "  predictedVal = numberLabels[predictedVal_index]\n",
    "#   groundTruth_index = np.where(datay_train[index] == 1)[0][0]\n",
    "#   groundTruth = labels[groundTruth_index]\n",
    "#   print(\"predicted value:\",format(predictedVal))\n",
    "#   print(\"ground truth:\",format(truth))\n",
    "  if (predictedVal != truth):\n",
    "   print(\"predicted value:\",format(predictedVal))\n",
    "   print(\"ground truth:\",format(truth))\n",
    "\n",
    "\n",
    "dataPath = \"./realData/number\"\n",
    "\n",
    "for file in os.listdir(dataPath):\n",
    "    if(file.endswith('.png')):\n",
    "        truth = file[0]\n",
    "        image = cv2.imread(dataPath + '/' + file) #converts to grey scale\n",
    "        width, height, dim = image.shape\n",
    "#         image = cv2.resize(image,(95,170))\n",
    "        plt.imshow(image)\n",
    "        testModel(image,truth)"
   ]
  }
 ],
 "metadata": {
  "kernelspec": {
   "display_name": "Python 2",
   "language": "python",
   "name": "python2"
  },
  "language_info": {
   "codemirror_mode": {
    "name": "ipython",
    "version": 2
   },
   "file_extension": ".py",
   "mimetype": "text/x-python",
   "name": "python",
   "nbconvert_exporter": "python",
   "pygments_lexer": "ipython2",
   "version": "2.7.15+"
  }
 },
 "nbformat": 4,
 "nbformat_minor": 2
}
